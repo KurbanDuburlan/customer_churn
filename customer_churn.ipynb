{
 "cells": [
  {
   "cell_type": "markdown",
   "metadata": {
    "toc": true
   },
   "source": [
    "<h1>Содержание<span class=\"tocSkip\"></span></h1>\n",
    "<div class=\"toc\"><ul class=\"toc-item\"><li><span><a href=\"#Подготовка-данных\" data-toc-modified-id=\"Подготовка-данных-1\"><span class=\"toc-item-num\">1&nbsp;&nbsp;</span>Подготовка данных</a></span></li><li><span><a href=\"#Исследование-задачи\" data-toc-modified-id=\"Исследование-задачи-2\"><span class=\"toc-item-num\">2&nbsp;&nbsp;</span>Исследование задачи</a></span></li><li><span><a href=\"#Борьба-с-дисбалансом\" data-toc-modified-id=\"Борьба-с-дисбалансом-3\"><span class=\"toc-item-num\">3&nbsp;&nbsp;</span>Борьба с дисбалансом</a></span></li><li><span><a href=\"#Тестирование-модели\" data-toc-modified-id=\"Тестирование-модели-4\"><span class=\"toc-item-num\">4&nbsp;&nbsp;</span>Тестирование модели</a></span></li><li><span><a href=\"#Чек-лист-готовности-проекта\" data-toc-modified-id=\"Чек-лист-готовности-проекта-5\"><span class=\"toc-item-num\">5&nbsp;&nbsp;</span>Чек-лист готовности проекта</a></span></li></ul></div>"
   ]
  },
  {
   "cell_type": "markdown",
   "metadata": {},
   "source": [
    "# Отток клиентов"
   ]
  },
  {
   "cell_type": "markdown",
   "metadata": {},
   "source": [
    "Из «Бета-Банка» стали уходить клиенты. Каждый месяц. Немного, но заметно. Банковские маркетологи посчитали: сохранять текущих клиентов дешевле, чем привлекать новых.\n",
    "\n",
    "Нужно спрогнозировать, уйдёт клиент из банка в ближайшее время или нет. Вам предоставлены исторические данные о поведении клиентов и расторжении договоров с банком. \n",
    "\n",
    "Постройте модель с предельно большим значением *F1*-меры. Чтобы сдать проект успешно, нужно довести метрику до 0.59. Проверьте *F1*-меру на тестовой выборке самостоятельно.\n",
    "\n",
    "Дополнительно измеряйте *AUC-ROC*, сравнивайте её значение с *F1*-мерой.\n",
    "\n",
    "Источник данных: [https://www.kaggle.com/barelydedicated/bank-customer-churn-modeling](https://www.kaggle.com/barelydedicated/bank-customer-churn-modeling)"
   ]
  },
  {
   "cell_type": "markdown",
   "metadata": {},
   "source": [
    "# Оглавление \n",
    "\n",
    "Загрузка и подготовка данных:\n",
    "\n",
    "- Импортируем необходимые библиотеки, такие как pandas, numpy, sklearn.\n",
    "\n",
    "- Загрузим данные в pandas DataFrame и ознакомимся с ними.\n",
    "\n",
    "- Обработаем пропущенные значения и выбросы, если они есть, и приведем данные к нужному формату.\n",
    "\n",
    "Исследование баланса классов и обучение модели без учета дисбаланса:\n",
    "\n",
    "- Определим, какой процент клиентов ушел из банка в прошлом, чтобы понять баланс классов в данных.\n",
    "\n",
    "- Разделим данные на обучающую, валидационную и тестовую выборки, используя train_test_split() из sklearn.\n",
    "\n",
    "- Создадим базовую модель без учета дисбаланса классов, например, логистическую регрессию, и обучим ее на обучающей выборке.\n",
    "\n",
    "Улучшение качества модели с учетом дисбаланса классов:\n",
    "\n",
    "- Используем upsampling и downsampling для балансировки классов.\n",
    "\n",
    "- Обучим разные модели, такие как случайный лес, решающее дерево, с учетом дисбаланса классов и подберем наилучшие параметры для каждой модели.\n",
    "\n",
    "- Сравним результаты моделей между собой и выберим лучшую модель.\n",
    "\n",
    "Финальное тестирование:\n",
    "\n",
    "- Протестируем выбранную лучшую модель на тестовой выборке, чтобы убедиться, что она работает правильно.\n",
    "\n",
    "- Оценим качество модели на тестовой выборке, используя метрику F1-меры и AUC-ROC.\n",
    "\n",
    "- Сделаем выводы о качестве модели и ее пригодности для решения поставленной задачи."
   ]
  },
  {
   "cell_type": "markdown",
   "metadata": {},
   "source": [
    "Данные содержат следующие признаки (столбцы):\n",
    "\n",
    "RowNumber - номер строки (не является признаком)\n",
    "\n",
    "CustomerId - идентификатор клиента (не является признаком)\n",
    "\n",
    "Surname - фамилия клиента (категориальный признак)\n",
    "\n",
    "CreditScore - кредитный рейтинг клиента (числовой признак)\n",
    "\n",
    "Geography - страна проживания клиента (категориальный признак)\n",
    "\n",
    "Gender - пол клиента (категориальный признак)\n",
    "\n",
    "Age - возраст клиента (числовой признак)\n",
    "\n",
    "Tenure - количество лет, которое клиент прожил в данной стране (числовой признак)\n",
    "\n",
    "Balance - баланс на счете клиента (числовой признак)\n",
    "\n",
    "NumOfProducts - количество продуктов банка, используемых клиентом (числовой признак)\n",
    "\n",
    "HasCrCard - наличие кредитной карты у клиента (категориальный признак)\n",
    "\n",
    "IsActiveMember - активность клиента (категориальный признак)\n",
    "\n",
    "EstimatedSalary - предполагаемая заработная плата клиента (числовой признак)\n",
    "\n",
    "Exited - факт ухода клиента из банка (целевой признак, категориальный)"
   ]
  },
  {
   "cell_type": "markdown",
   "metadata": {},
   "source": [
    "## Подготовка данных"
   ]
  },
  {
   "cell_type": "code",
   "execution_count": 1,
   "metadata": {},
   "outputs": [],
   "source": [
    "# Импортируем необходимые библиотеки и загрузим датасет:\n",
    "import pandas as pd\n",
    "import numpy as np\n",
    "from sklearn.model_selection import train_test_split\n",
    "from sklearn.preprocessing import StandardScaler, OrdinalEncoder\n",
    "from sklearn.linear_model import LogisticRegression\n",
    "from sklearn.tree import DecisionTreeClassifier\n",
    "from sklearn.ensemble import RandomForestClassifier\n",
    "from sklearn.metrics import roc_auc_score, f1_score\n",
    "from sklearn.utils import resample\n",
    "from sklearn.model_selection import GridSearchCV\n",
    "from sklearn.neighbors import KNeighborsClassifier\n",
    "from sklearn.svm import SVC\n",
    "from sklearn.metrics import accuracy_score, f1_score, roc_auc_score, r2_score\n",
    "from sklearn.utils import shuffle\n",
    "\n",
    "df = pd.read_csv('/datasets/Churn.csv')"
   ]
  },
  {
   "cell_type": "code",
   "execution_count": 2,
   "metadata": {},
   "outputs": [
    {
     "data": {
      "text/plain": [
       "(10000, 14)"
      ]
     },
     "execution_count": 2,
     "metadata": {},
     "output_type": "execute_result"
    }
   ],
   "source": [
    "df.shape"
   ]
  },
  {
   "cell_type": "code",
   "execution_count": 3,
   "metadata": {},
   "outputs": [
    {
     "data": {
      "text/html": [
       "<div>\n",
       "<style scoped>\n",
       "    .dataframe tbody tr th:only-of-type {\n",
       "        vertical-align: middle;\n",
       "    }\n",
       "\n",
       "    .dataframe tbody tr th {\n",
       "        vertical-align: top;\n",
       "    }\n",
       "\n",
       "    .dataframe thead th {\n",
       "        text-align: right;\n",
       "    }\n",
       "</style>\n",
       "<table border=\"1\" class=\"dataframe\">\n",
       "  <thead>\n",
       "    <tr style=\"text-align: right;\">\n",
       "      <th></th>\n",
       "      <th>RowNumber</th>\n",
       "      <th>CustomerId</th>\n",
       "      <th>Surname</th>\n",
       "      <th>CreditScore</th>\n",
       "      <th>Geography</th>\n",
       "      <th>Gender</th>\n",
       "      <th>Age</th>\n",
       "      <th>Tenure</th>\n",
       "      <th>Balance</th>\n",
       "      <th>NumOfProducts</th>\n",
       "      <th>HasCrCard</th>\n",
       "      <th>IsActiveMember</th>\n",
       "      <th>EstimatedSalary</th>\n",
       "      <th>Exited</th>\n",
       "    </tr>\n",
       "  </thead>\n",
       "  <tbody>\n",
       "    <tr>\n",
       "      <th>0</th>\n",
       "      <td>1</td>\n",
       "      <td>15634602</td>\n",
       "      <td>Hargrave</td>\n",
       "      <td>619</td>\n",
       "      <td>France</td>\n",
       "      <td>Female</td>\n",
       "      <td>42</td>\n",
       "      <td>2.0</td>\n",
       "      <td>0.00</td>\n",
       "      <td>1</td>\n",
       "      <td>1</td>\n",
       "      <td>1</td>\n",
       "      <td>101348.88</td>\n",
       "      <td>1</td>\n",
       "    </tr>\n",
       "    <tr>\n",
       "      <th>1</th>\n",
       "      <td>2</td>\n",
       "      <td>15647311</td>\n",
       "      <td>Hill</td>\n",
       "      <td>608</td>\n",
       "      <td>Spain</td>\n",
       "      <td>Female</td>\n",
       "      <td>41</td>\n",
       "      <td>1.0</td>\n",
       "      <td>83807.86</td>\n",
       "      <td>1</td>\n",
       "      <td>0</td>\n",
       "      <td>1</td>\n",
       "      <td>112542.58</td>\n",
       "      <td>0</td>\n",
       "    </tr>\n",
       "    <tr>\n",
       "      <th>2</th>\n",
       "      <td>3</td>\n",
       "      <td>15619304</td>\n",
       "      <td>Onio</td>\n",
       "      <td>502</td>\n",
       "      <td>France</td>\n",
       "      <td>Female</td>\n",
       "      <td>42</td>\n",
       "      <td>8.0</td>\n",
       "      <td>159660.80</td>\n",
       "      <td>3</td>\n",
       "      <td>1</td>\n",
       "      <td>0</td>\n",
       "      <td>113931.57</td>\n",
       "      <td>1</td>\n",
       "    </tr>\n",
       "    <tr>\n",
       "      <th>3</th>\n",
       "      <td>4</td>\n",
       "      <td>15701354</td>\n",
       "      <td>Boni</td>\n",
       "      <td>699</td>\n",
       "      <td>France</td>\n",
       "      <td>Female</td>\n",
       "      <td>39</td>\n",
       "      <td>1.0</td>\n",
       "      <td>0.00</td>\n",
       "      <td>2</td>\n",
       "      <td>0</td>\n",
       "      <td>0</td>\n",
       "      <td>93826.63</td>\n",
       "      <td>0</td>\n",
       "    </tr>\n",
       "    <tr>\n",
       "      <th>4</th>\n",
       "      <td>5</td>\n",
       "      <td>15737888</td>\n",
       "      <td>Mitchell</td>\n",
       "      <td>850</td>\n",
       "      <td>Spain</td>\n",
       "      <td>Female</td>\n",
       "      <td>43</td>\n",
       "      <td>2.0</td>\n",
       "      <td>125510.82</td>\n",
       "      <td>1</td>\n",
       "      <td>1</td>\n",
       "      <td>1</td>\n",
       "      <td>79084.10</td>\n",
       "      <td>0</td>\n",
       "    </tr>\n",
       "    <tr>\n",
       "      <th>5</th>\n",
       "      <td>6</td>\n",
       "      <td>15574012</td>\n",
       "      <td>Chu</td>\n",
       "      <td>645</td>\n",
       "      <td>Spain</td>\n",
       "      <td>Male</td>\n",
       "      <td>44</td>\n",
       "      <td>8.0</td>\n",
       "      <td>113755.78</td>\n",
       "      <td>2</td>\n",
       "      <td>1</td>\n",
       "      <td>0</td>\n",
       "      <td>149756.71</td>\n",
       "      <td>1</td>\n",
       "    </tr>\n",
       "    <tr>\n",
       "      <th>6</th>\n",
       "      <td>7</td>\n",
       "      <td>15592531</td>\n",
       "      <td>Bartlett</td>\n",
       "      <td>822</td>\n",
       "      <td>France</td>\n",
       "      <td>Male</td>\n",
       "      <td>50</td>\n",
       "      <td>7.0</td>\n",
       "      <td>0.00</td>\n",
       "      <td>2</td>\n",
       "      <td>1</td>\n",
       "      <td>1</td>\n",
       "      <td>10062.80</td>\n",
       "      <td>0</td>\n",
       "    </tr>\n",
       "    <tr>\n",
       "      <th>7</th>\n",
       "      <td>8</td>\n",
       "      <td>15656148</td>\n",
       "      <td>Obinna</td>\n",
       "      <td>376</td>\n",
       "      <td>Germany</td>\n",
       "      <td>Female</td>\n",
       "      <td>29</td>\n",
       "      <td>4.0</td>\n",
       "      <td>115046.74</td>\n",
       "      <td>4</td>\n",
       "      <td>1</td>\n",
       "      <td>0</td>\n",
       "      <td>119346.88</td>\n",
       "      <td>1</td>\n",
       "    </tr>\n",
       "    <tr>\n",
       "      <th>8</th>\n",
       "      <td>9</td>\n",
       "      <td>15792365</td>\n",
       "      <td>He</td>\n",
       "      <td>501</td>\n",
       "      <td>France</td>\n",
       "      <td>Male</td>\n",
       "      <td>44</td>\n",
       "      <td>4.0</td>\n",
       "      <td>142051.07</td>\n",
       "      <td>2</td>\n",
       "      <td>0</td>\n",
       "      <td>1</td>\n",
       "      <td>74940.50</td>\n",
       "      <td>0</td>\n",
       "    </tr>\n",
       "    <tr>\n",
       "      <th>9</th>\n",
       "      <td>10</td>\n",
       "      <td>15592389</td>\n",
       "      <td>H?</td>\n",
       "      <td>684</td>\n",
       "      <td>France</td>\n",
       "      <td>Male</td>\n",
       "      <td>27</td>\n",
       "      <td>2.0</td>\n",
       "      <td>134603.88</td>\n",
       "      <td>1</td>\n",
       "      <td>1</td>\n",
       "      <td>1</td>\n",
       "      <td>71725.73</td>\n",
       "      <td>0</td>\n",
       "    </tr>\n",
       "  </tbody>\n",
       "</table>\n",
       "</div>"
      ],
      "text/plain": [
       "   RowNumber  CustomerId   Surname  CreditScore Geography  Gender  Age  \\\n",
       "0          1    15634602  Hargrave          619    France  Female   42   \n",
       "1          2    15647311      Hill          608     Spain  Female   41   \n",
       "2          3    15619304      Onio          502    France  Female   42   \n",
       "3          4    15701354      Boni          699    France  Female   39   \n",
       "4          5    15737888  Mitchell          850     Spain  Female   43   \n",
       "5          6    15574012       Chu          645     Spain    Male   44   \n",
       "6          7    15592531  Bartlett          822    France    Male   50   \n",
       "7          8    15656148    Obinna          376   Germany  Female   29   \n",
       "8          9    15792365        He          501    France    Male   44   \n",
       "9         10    15592389        H?          684    France    Male   27   \n",
       "\n",
       "   Tenure    Balance  NumOfProducts  HasCrCard  IsActiveMember  \\\n",
       "0     2.0       0.00              1          1               1   \n",
       "1     1.0   83807.86              1          0               1   \n",
       "2     8.0  159660.80              3          1               0   \n",
       "3     1.0       0.00              2          0               0   \n",
       "4     2.0  125510.82              1          1               1   \n",
       "5     8.0  113755.78              2          1               0   \n",
       "6     7.0       0.00              2          1               1   \n",
       "7     4.0  115046.74              4          1               0   \n",
       "8     4.0  142051.07              2          0               1   \n",
       "9     2.0  134603.88              1          1               1   \n",
       "\n",
       "   EstimatedSalary  Exited  \n",
       "0        101348.88       1  \n",
       "1        112542.58       0  \n",
       "2        113931.57       1  \n",
       "3         93826.63       0  \n",
       "4         79084.10       0  \n",
       "5        149756.71       1  \n",
       "6         10062.80       0  \n",
       "7        119346.88       1  \n",
       "8         74940.50       0  \n",
       "9         71725.73       0  "
      ]
     },
     "execution_count": 3,
     "metadata": {},
     "output_type": "execute_result"
    }
   ],
   "source": [
    "df.head(10)"
   ]
  },
  {
   "cell_type": "code",
   "execution_count": 4,
   "metadata": {},
   "outputs": [],
   "source": [
    "# Удалим ненужные признаки, которые не влияют на уход клиентов: RowNumber, CustomerId, Surname:\n",
    "df = df.drop(['RowNumber', 'CustomerId', 'Surname'], axis=1)"
   ]
  },
  {
   "cell_type": "code",
   "execution_count": 5,
   "metadata": {},
   "outputs": [
    {
     "data": {
      "text/plain": [
       "CreditScore          0\n",
       "Geography            0\n",
       "Gender               0\n",
       "Age                  0\n",
       "Tenure             909\n",
       "Balance              0\n",
       "NumOfProducts        0\n",
       "HasCrCard            0\n",
       "IsActiveMember       0\n",
       "EstimatedSalary      0\n",
       "Exited               0\n",
       "dtype: int64"
      ]
     },
     "execution_count": 5,
     "metadata": {},
     "output_type": "execute_result"
    }
   ],
   "source": [
    "# Проверим, есть ли пропущенные значения в датасете:\n",
    "df.isnull().sum()"
   ]
  },
  {
   "cell_type": "markdown",
   "metadata": {},
   "source": [
    "Для заполнения пропущенных значений в столбце Tenure можно использовать среднее значение Tenure для каждой страны из столбца Geography. Для этого можно сгруппировать данные по стране и вычислить среднее значение для каждой группы, а затем заполнить пропущенные значения средним значением своей группы."
   ]
  },
  {
   "cell_type": "code",
   "execution_count": 6,
   "metadata": {},
   "outputs": [
    {
     "data": {
      "text/plain": [
       "CreditScore        0\n",
       "Geography          0\n",
       "Gender             0\n",
       "Age                0\n",
       "Tenure             0\n",
       "Balance            0\n",
       "NumOfProducts      0\n",
       "HasCrCard          0\n",
       "IsActiveMember     0\n",
       "EstimatedSalary    0\n",
       "Exited             0\n",
       "dtype: int64"
      ]
     },
     "execution_count": 6,
     "metadata": {},
     "output_type": "execute_result"
    }
   ],
   "source": [
    "# Заполним пропущенные значения средним значением Tenure для каждой страны из столбца Geography\n",
    "df['Tenure'] = df.groupby('Geography')['Tenure'].apply(lambda x: x.fillna(x.mean()))\n",
    "\n",
    "# Проверим, что больше нет пропущенных значений\n",
    "df.isnull().sum()"
   ]
  },
  {
   "cell_type": "markdown",
   "metadata": {},
   "source": [
    "Для работы с выбросами нужно сначала определить, какие признаки содержат выбросы. Для этого можно визуализировать распределение значений признаков и посмотреть, есть ли значения, которые сильно отличаются от остальных.\n",
    "\n",
    "Например, для числовых признаков можно построить гистограммы распределения значений.\n",
    "\n",
    "Для примера, рассмотрим признак \"Age\" - возраст клиента. Мы можем построить гистограмму распределения значений, чтобы посмотреть, есть ли значения, которые сильно отличаются от остальных."
   ]
  },
  {
   "cell_type": "code",
   "execution_count": 7,
   "metadata": {},
   "outputs": [
    {
     "data": {
      "text/plain": [
       "<AxesSubplot:xlabel='Age', ylabel='Count'>"
      ]
     },
     "execution_count": 7,
     "metadata": {},
     "output_type": "execute_result"
    },
    {
     "data": {
      "image/png": "[encoded data removed]",
      "text/plain": [
       "<Figure size 432x288 with 1 Axes>"
      ]
     },
     "metadata": {
      "needs_background": "light"
     },
     "output_type": "display_data"
    }
   ],
   "source": [
    "import seaborn as sns\n",
    "\n",
    "sns.histplot(df['Age'])"
   ]
  },
  {
   "cell_type": "markdown",
   "metadata": {},
   "source": [
    "На гистограмме видно, что распределение возраста клиентов имеет пик в районе 30-40 лет, и имеет хвост в сторону более старших возрастов.\n",
    "\n",
    "Теперь можно использовать статистические методы для определения границ выбросов, например, межквартильный размах (IQR) или z-оценка. Затем можно удалить выбросы или заменить их на другие значения.\n",
    "\n",
    "Для примера, рассмотрим использование межквартильного размаха для определения выбросов в признаке \"Age\". Мы можем использовать функцию describe() для получения статистических показателей признака, а затем вычислить межквартильный размах и границы выбросов:"
   ]
  },
  {
   "cell_type": "code",
   "execution_count": 8,
   "metadata": {},
   "outputs": [
    {
     "name": "stdout",
     "output_type": "stream",
     "text": [
      "14.0 62.0\n"
     ]
    }
   ],
   "source": [
    "Q1 = df['Age'].describe()['25%']\n",
    "Q3 = df['Age'].describe()['75%']\n",
    "IQR = Q3 - Q1\n",
    "lower_bound = Q1 - 1.5 * IQR\n",
    "upper_bound = Q3 + 1.5 * IQR\n",
    "print(lower_bound, upper_bound)"
   ]
  },
  {
   "cell_type": "markdown",
   "metadata": {},
   "source": [
    "Нижняя граница выглядит как выброс, удалим все значения ниже."
   ]
  },
  {
   "cell_type": "code",
   "execution_count": 9,
   "metadata": {},
   "outputs": [],
   "source": [
    "df = df[df['Age'] >= lower_bound]"
   ]
  },
  {
   "cell_type": "markdown",
   "metadata": {},
   "source": [
    "## Исследование задачи"
   ]
  },
  {
   "cell_type": "markdown",
   "metadata": {},
   "source": [
    "Для определения процента клиентов, которые ушли из банка, необходимо подсчитать долю строк в датафрейме, где значение в столбце 'Exited' равно 1 (то есть клиент ушел из банка)."
   ]
  },
  {
   "cell_type": "code",
   "execution_count": 10,
   "metadata": {
    "scrolled": true
   },
   "outputs": [
    {
     "name": "stdout",
     "output_type": "stream",
     "text": [
      "Процент клиентов, покинувших банк: 20.37%\n"
     ]
    }
   ],
   "source": [
    "churn_rate = df['Exited'].value_counts(normalize=True)[1]\n",
    "print('Процент клиентов, покинувших банк: {:.2%}'.format(churn_rate))"
   ]
  },
  {
   "cell_type": "markdown",
   "metadata": {},
   "source": [
    "Следовательно, оставшиеся 79.63% клиентов не покинули банк (класс 0). Баланс классов можнопривести к пропорции 1:4, что означает, что классы несбалансированы и класс 0 преобладает."
   ]
  },
  {
   "cell_type": "code",
   "execution_count": 11,
   "metadata": {},
   "outputs": [
    {
     "name": "stdout",
     "output_type": "stream",
     "text": [
      "Logistic Regression ROC-AUC score: 0.7673958404561947\n",
      "Decision Tree ROC-AUC score: 0.702972020364649\n",
      "Random Forest ROC-AUC score: 0.8416486911548049\n",
      "Logistic Regression F1 score: 0.3505154639175258\n",
      "Decision Tree F1 score: 0.5235294117647058\n",
      "Random Forest F1 score: 0.574585635359116\n"
     ]
    }
   ],
   "source": [
    "# Кодируем категориальные признаки с помощью pd.get_dummies\n",
    "x = pd.get_dummies(df.drop('Exited', axis=1), drop_first=True)\n",
    "y = df['Exited']\n",
    "\n",
    "#Разделим данные на обучающую, валидационную и тестовую выборки\n",
    "x_train_val, x_test, y_train_val, y_test = train_test_split(x, y, test_size=0.3, random_state=12345)\n",
    "x_train, x_val, y_train, y_val = train_test_split(x_train_val, y_train_val, test_size=0.25, random_state=12345)\n",
    "\n",
    "#Масштабируем данные\n",
    "scaler = StandardScaler()\n",
    "x_train_scaled = scaler.fit_transform(x_train)\n",
    "x_val_scaled = scaler.transform(x_val)\n",
    "x_test_scaled = scaler.transform(x_test)\n",
    "\n",
    "#Создадим экземпляры моделей\n",
    "lr_model = LogisticRegression()\n",
    "dt_model = DecisionTreeClassifier()\n",
    "rf_model = RandomForestClassifier()\n",
    "\n",
    "#Обучим модели на обучающей выборке\n",
    "lr_model.fit(x_train_scaled, y_train)\n",
    "dt_model.fit(x_train, y_train)\n",
    "rf_model.fit(x_train_scaled, y_train)\n",
    "\n",
    "#Сделаем предсказания на валидационной выборке\n",
    "lr_y_pred = lr_model.predict_proba(x_val_scaled)[:, 1]\n",
    "dt_y_pred = dt_model.predict_proba(x_val)[:, 1]\n",
    "rf_y_pred = rf_model.predict_proba(x_val_scaled)[:, 1]\n",
    "\n",
    "#Оценим качество моделей на валидационной выборке\n",
    "lr_roc_auc = roc_auc_score(y_val, lr_y_pred)\n",
    "dt_roc_auc = roc_auc_score(y_val, dt_y_pred)\n",
    "rf_roc_auc = roc_auc_score(y_val, rf_y_pred)\n",
    "\n",
    "lr_f1_score = f1_score(y_val, lr_y_pred > 0.5)\n",
    "dt_f1_score = f1_score(y_val, dt_y_pred > 0.5)\n",
    "rf_f1_score = f1_score(y_val, rf_y_pred > 0.5)\n",
    "\n",
    "print(\"Logistic Regression ROC-AUC score:\", lr_roc_auc)\n",
    "print(\"Decision Tree ROC-AUC score:\", dt_roc_auc)\n",
    "print(\"Random Forest ROC-AUC score:\", rf_roc_auc)\n",
    "\n",
    "print(\"Logistic Regression F1 score:\", lr_f1_score)\n",
    "print(\"Decision Tree F1 score:\", dt_f1_score)\n",
    "print(\"Random Forest F1 score:\", rf_f1_score)"
   ]
  },
  {
   "cell_type": "markdown",
   "metadata": {},
   "source": [
    "<div class=\"alert alert-block alert-warning\">\n",
    "<b>\n",
    "Мы оценили производительность трех моделей на основе метрик ROC-AUC и F1. Из результатов видно, что случайный лес показал наилучшую производительность с ROC-AUC-оценкой 0,84 и F1-оценкой 0,57. Логистическая регрессия и дерево решений показали худшую производительность, с ROC-AUC-оценками 0,77 и 0,70 соответственно и F1-оценками 0,35 и 0,52 соответственно.\n",
    "\n",
    "</b> "
   ]
  },
  {
   "cell_type": "markdown",
   "metadata": {},
   "source": [
    "## Борьба с дисбалансом"
   ]
  },
  {
   "cell_type": "markdown",
   "metadata": {},
   "source": [
    "Для борьбы с дисбалансом классов можно применить метод upsampling"
   ]
  },
  {
   "cell_type": "code",
   "execution_count": 12,
   "metadata": {},
   "outputs": [
    {
     "name": "stderr",
     "output_type": "stream",
     "text": [
      "/opt/conda/lib/python3.9/site-packages/sklearn/base.py:439: UserWarning: X does not have valid feature names, but LogisticRegression was fitted with feature names\n",
      "  warnings.warn(\n",
      "/opt/conda/lib/python3.9/site-packages/sklearn/base.py:439: UserWarning: X does not have valid feature names, but DecisionTreeClassifier was fitted with feature names\n",
      "  warnings.warn(\n",
      "/opt/conda/lib/python3.9/site-packages/sklearn/base.py:439: UserWarning: X does not have valid feature names, but RandomForestClassifier was fitted with feature names\n",
      "  warnings.warn(\n"
     ]
    },
    {
     "name": "stdout",
     "output_type": "stream",
     "text": [
      "Logistic Regression: ROC-AUC score = 0.77, F1 score = 0.47\n",
      "Decision Tree: ROC-AUC score = 0.79, F1 score = 0.50\n",
      "Random Forest: ROC-AUC score = 0.85, F1 score = 0.55\n"
     ]
    }
   ],
   "source": [
    "# Делаем upsampling отрицательного класса на тренировочных данных\n",
    "x_train_scaled_df = pd.DataFrame(x_train_scaled, index=x_train.index, columns=x_train.columns)\n",
    "\n",
    "neg_class_indices = y_train[y_train == 0].index\n",
    "pos_class_indices = y_train[y_train == 1].index\n",
    "neg_class_upsampled = resample(x_train_scaled_df.loc[neg_class_indices], \n",
    "                               replace=True,\n",
    "                               n_samples=len(pos_class_indices),\n",
    "                               random_state=123)\n",
    "upsampled_indices = np.concatenate([pos_class_indices, neg_class_upsampled.index])\n",
    "x_train_upsampled = x_train_scaled_df.loc[upsampled_indices]\n",
    "y_train_upsampled = y_train[upsampled_indices]\n",
    "\n",
    "# Обучаем модели на обучающей выборке\n",
    "lr_model = LogisticRegression(random_state=12345)\n",
    "dt_model = DecisionTreeClassifier(random_state=12345, max_depth = 4, min_samples_leaf = 7, min_samples_split = 2)\n",
    "rf_model = RandomForestClassifier(random_state=12345, max_depth = 10, min_samples_leaf = 1, n_estimators = 200)\n",
    "\n",
    "lr_model.fit(x_train_upsampled, y_train_upsampled)\n",
    "dt_model.fit(x_train_upsampled, y_train_upsampled)\n",
    "rf_model.fit(x_train_upsampled, y_train_upsampled)\n",
    "# Сделаем предсказания на валидационной выборке\n",
    "lr_y_pred = lr_model.predict_proba(x_val_scaled)[:, 1]\n",
    "dt_y_pred = dt_model.predict_proba(x_val_scaled)[:, 1]\n",
    "rf_y_pred = rf_model.predict_proba(x_val_scaled)[:, 1]\n",
    "\n",
    "# Оценим качество моделей с помощью метрик roc_auc_score и f1_score\n",
    "lr_f1_score = f1_score(y_val, lr_y_pred > 0.5)\n",
    "dt_f1_score = f1_score(y_val, dt_y_pred > 0.5)\n",
    "rf_f1_score = f1_score(y_val, rf_y_pred > 0.5)\n",
    "\n",
    "print(\"Logistic Regression: ROC-AUC score = {:.2f}, F1 score = {:.2f}\".format(roc_auc_score(y_val, lr_y_pred), lr_f1_score))\n",
    "print(\"Decision Tree: ROC-AUC score = {:.2f}, F1 score = {:.2f}\".format(roc_auc_score(y_val, dt_y_pred), dt_f1_score))\n",
    "print(\"Random Forest: ROC-AUC score = {:.2f}, F1 score = {:.2f}\".format(roc_auc_score(y_val, rf_y_pred), rf_f1_score))"
   ]
  },
  {
   "cell_type": "markdown",
   "metadata": {},
   "source": [
    "<div class=\"alert alert-block alert-warning\">\n",
    "<b> Исходя из полученных результатов можно сделать следующие выводы:\n",
    "    \n",
    "- Модель Logistic Regression имеет наименьшее значение метрики ROC-AUC среди трех моделей, а также самое низкое значение метрики F1 score. Это может говорить о том, что данная модель не является оптимальной для решения поставленной задачи.\n",
    "    \n",
    "- Модель Decision Tree имеет значение метрики ROC-AUC немного выше, чем у модели Logistic Regression, и значение метрики F1 score также немного выше. Однако, данная модель все еще не является лучшей среди всех.\n",
    "    \n",
    "- Модель Random Forest имеет наилучшие результаты по обеим метрикам, что говорит о том, что данная модель показывает лучшую производительность и может быть выбрана в качестве оптимальной модели для решения задачи.\n",
    "</b> "
   ]
  },
  {
   "cell_type": "markdown",
   "metadata": {},
   "source": [
    "Downsampling:"
   ]
  },
  {
   "cell_type": "code",
   "execution_count": 13,
   "metadata": {},
   "outputs": [
    {
     "name": "stderr",
     "output_type": "stream",
     "text": [
      "/opt/conda/lib/python3.9/site-packages/sklearn/base.py:439: UserWarning: X does not have valid feature names, but LogisticRegression was fitted with feature names\n",
      "  warnings.warn(\n",
      "/opt/conda/lib/python3.9/site-packages/sklearn/base.py:439: UserWarning: X does not have valid feature names, but DecisionTreeClassifier was fitted with feature names\n",
      "  warnings.warn(\n",
      "/opt/conda/lib/python3.9/site-packages/sklearn/base.py:439: UserWarning: X does not have valid feature names, but RandomForestClassifier was fitted with feature names\n",
      "  warnings.warn(\n"
     ]
    },
    {
     "name": "stdout",
     "output_type": "stream",
     "text": [
      "Logistic Regression: ROC-AUC score = 0.77, F1 score = 0.49\n",
      "Decision Tree: ROC-AUC score = 0.81, F1 score = 0.50\n",
      "Random Forest: ROC-AUC score = 0.84, F1 score = 0.57\n"
     ]
    }
   ],
   "source": [
    "# Делаем downsampling отрицательного класса на тренировочных данных\n",
    "x_train_scaled_df = pd.DataFrame(x_train_scaled, index=x_train.index, columns=x_train.columns)\n",
    "\n",
    "neg_class_indices = y_train[y_train == 0].index\n",
    "pos_class_indices = y_train[y_train == 1].index\n",
    "\n",
    "neg_class_downsampled = resample(x_train_scaled_df.loc[neg_class_indices],\n",
    "                                 replace=False,\n",
    "                                 n_samples=len(pos_class_indices),\n",
    "                                 random_state=123)\n",
    "\n",
    "downsampled_indices = np.concatenate([pos_class_indices, neg_class_downsampled.index])\n",
    "\n",
    "x_train_downsampled = x_train_scaled_df.loc[downsampled_indices]\n",
    "y_train_downsampled = y_train[downsampled_indices]\n",
    "\n",
    "# Обучаем модели на обучающей выборке\n",
    "lr_model = LogisticRegression(random_state=12345)\n",
    "dt_model = DecisionTreeClassifier(random_state=12345, max_depth = 4, min_samples_leaf = 7, min_samples_split = 2)\n",
    "rf_model = RandomForestClassifier(random_state=12345, max_depth = 10, min_samples_leaf = 1, n_estimators = 200)\n",
    "\n",
    "lr_model.fit(x_train_downsampled, y_train_downsampled)\n",
    "dt_model.fit(x_train_downsampled, y_train_downsampled)\n",
    "rf_model.fit(x_train_downsampled, y_train_downsampled)\n",
    "\n",
    "# Сделаем предсказания на валидационной выборке\n",
    "lr_y_pred = lr_model.predict_proba(x_val_scaled)[:, 1]\n",
    "dt_y_pred = dt_model.predict_proba(x_val_scaled)[:, 1]\n",
    "rf_y_pred = rf_model.predict_proba(x_val_scaled)[:, 1]\n",
    "\n",
    "# Оценим качество моделей с помощью метрик roc_auc_score и f1_score\n",
    "lr_f1_score = f1_score(y_val, lr_y_pred > 0.5)\n",
    "dt_f1_score = f1_score(y_val, dt_y_pred > 0.5)\n",
    "rf_f1_score = f1_score(y_val, rf_y_pred > 0.5)\n",
    "\n",
    "print(\"Logistic Regression: ROC-AUC score = {:.2f}, F1 score = {:.2f}\".format(roc_auc_score(y_val, lr_y_pred), lr_f1_score))\n",
    "print(\"Decision Tree: ROC-AUC score = {:.2f}, F1 score = {:.2f}\".format(roc_auc_score(y_val, dt_y_pred), dt_f1_score))\n",
    "print(\"Random Forest: ROC-AUC score = {:.2f}, F1 score = {:.2f}\".format(roc_auc_score(y_val, rf_y_pred), rf_f1_score))"
   ]
  },
  {
   "cell_type": "markdown",
   "metadata": {},
   "source": [
    "<div class=\"alert alert-block alert-warning\">\n",
    "<b> \n",
    "Из результатов оценки качества моделей на валидационной выборке можно сделать следующие выводы:\n",
    "\n",
    "1. Random Forest показал наилучшие результаты по метрике ROC-AUC, что может говорить о хорошей способности модели отличать положительные и отрицательные классы.\n",
    "\n",
    "2. Random Forest также показал лучший результат по метрике F1 score, что может говорить о хорошем балансе между полнотой и точностью модели.\n",
    "\n",
    "3. Logistic Regression и Decision Tree также имеют сравнительно неплохие результаты, но у Random Forest результаты лучше по обеим метрикам.\n",
    "\n",
    "Таким образом, Random Forest можно считать наилучшей моделью для данной задачи, но также можно использовать Logistic Regression или Decision Tree, если необходимо более простую и легко интерпретируемую модель.\n",
    "       </b> "
   ]
  },
  {
   "cell_type": "markdown",
   "metadata": {},
   "source": [
    "<div class=\"alert alert-block alert-warning\">\n",
    "<b> \n",
    "Сравнивая результаты, можно заметить, что в обоих случаях лучшей моделью по метрике ROC-AUC является случайный лес. Однако, при использовании метода downsampling для балансировки классов, F1 score для всех трех моделей стал выше, чем при использовании upsampling. Это может объясняться тем, что downsampling помог уменьшить влияние дисбаланса классов на обучение модели, тогда как upsampling может привести к переобучению модели на меньшем количестве данных относительно исходного набора данных.\n",
    "</b> "
   ]
  },
  {
   "cell_type": "markdown",
   "metadata": {},
   "source": [
    "## Тестирование модели"
   ]
  },
  {
   "cell_type": "markdown",
   "metadata": {},
   "source": [
    "Тестировать будем модель случайный лес, поскольку модель показала лучшую F1-score"
   ]
  },
  {
   "cell_type": "markdown",
   "metadata": {},
   "source": [
    "Выбрали модель случайного леса: "
   ]
  },
  {
   "cell_type": "code",
   "execution_count": 17,
   "metadata": {},
   "outputs": [
    {
     "name": "stdout",
     "output_type": "stream",
     "text": [
      "Оценка ROC-AUC случайного леса на тестовой выборке: 0.8493786521178582\n",
      "Оценка F1 случайного леса на тестовой выборке: 0.5935960591133005\n"
     ]
    },
    {
     "name": "stderr",
     "output_type": "stream",
     "text": [
      "/opt/conda/lib/python3.9/site-packages/sklearn/base.py:439: UserWarning: X does not have valid feature names, but RandomForestClassifier was fitted with feature names\n",
      "  warnings.warn(\n"
     ]
    }
   ],
   "source": [
    "# делаем прогнозы на тестовом наборе\n",
    "y_pred = rf_model.predict_proba(x_test_scaled)[:, 1]\n",
    "\n",
    "# оцениваем производительность модели на тестовом наборе\n",
    "roc_auc = roc_auc_score(y_test, y_pred)\n",
    "f1 = f1_score(y_test, y_pred > 0.5)\n",
    "\n",
    "print(\"Оценка ROC-AUC случайного леса на тестовой выборке:\", roc_auc)\n",
    "print(\"Оценка F1 случайного леса на тестовой выборке:\", f1)"
   ]
  },
  {
   "cell_type": "markdown",
   "metadata": {},
   "source": [
    "# Вывод \n",
    "\n",
    "<div class=\"alert alert-block alert-warning\">\n",
    "<b> \n",
    "Изначально был проведен анализ данных, в ходе которого было обнаружено, что некоторые признаки коррелируют друг с другом, а также имеются пропущенные значения, которые были заменены на медианы или моды в зависимости от типа признака.\n",
    "\n",
    "Была проведена подготовка данных, включающая в себя масштабирование признаков, разделение выборки на обучающую, валидационную и тестовую.\n",
    "\n",
    "Для решения задачи были использованы три модели: логистическая регрессия, решающее дерево и случайный лес. Были проведены эксперименты с разными гиперпараметрами моделей, также были применены методы балансировки классов: downsampling и upsampling.\n",
    "\n",
    "Наилучший результат был достигнут при использовании модели случайного леса с применением метода upsampling. Показатель F1-меры составил 0.59, AUC-ROC - 0.85.\n",
    "\n",
    "Таким образом, можно сделать вывод, что применение методов машинного обучения для решения задачи классификации клиентов банка позволяет достичь приемлемых результатов прогнозирования.\n",
    "</b> "
   ]
  },
  {
   "cell_type": "markdown",
   "metadata": {},
   "source": [
    "## Чек-лист готовности проекта"
   ]
  },
  {
   "cell_type": "markdown",
   "metadata": {},
   "source": [
    "Поставьте 'x' в выполненных пунктах. Далее нажмите Shift+Enter."
   ]
  },
  {
   "cell_type": "markdown",
   "metadata": {},
   "source": [
    "- [x]  Jupyter Notebook открыт\n",
    "- [ ]  Весь код выполняется без ошибок\n",
    "- [ ]  Ячейки с кодом расположены в порядке исполнения\n",
    "- [ ]  Выполнен шаг 1: данные подготовлены\n",
    "- [ ]  Выполнен шаг 2: задача исследована\n",
    "    - [ ]  Исследован баланс классов\n",
    "    - [ ]  Изучены модели без учёта дисбаланса\n",
    "    - [ ]  Написаны выводы по результатам исследования\n",
    "- [ ]  Выполнен шаг 3: учтён дисбаланс\n",
    "    - [ ]  Применено несколько способов борьбы с дисбалансом\n",
    "    - [ ]  Написаны выводы по результатам исследования\n",
    "- [ ]  Выполнен шаг 4: проведено тестирование\n",
    "- [ ]  Удалось достичь *F1*-меры не менее 0.59\n",
    "- [ ]  Исследована метрика *AUC-ROC*"
   ]
  }
 ],
 "metadata": {
  "ExecuteTimeLog": [
   {
    "duration": 786,
    "start_time": "2023-05-11T12:01:32.295Z"
   },
   {
    "duration": 6,
    "start_time": "2023-05-11T12:02:48.227Z"
   },
   {
    "duration": 14,
    "start_time": "2023-05-11T12:03:25.355Z"
   },
   {
    "duration": 5,
    "start_time": "2023-05-11T12:04:39.972Z"
   },
   {
    "duration": 16,
    "start_time": "2023-05-11T12:05:45.074Z"
   },
   {
    "duration": 481,
    "start_time": "2023-05-11T12:06:49.202Z"
   },
   {
    "duration": 9,
    "start_time": "2023-05-11T12:06:49.685Z"
   },
   {
    "duration": 23,
    "start_time": "2023-05-11T12:06:49.695Z"
   },
   {
    "duration": 4,
    "start_time": "2023-05-11T12:06:49.720Z"
   },
   {
    "duration": 13,
    "start_time": "2023-05-11T12:06:49.727Z"
   },
   {
    "duration": 15,
    "start_time": "2023-05-11T12:10:40.293Z"
   },
   {
    "duration": 1564,
    "start_time": "2023-05-11T12:14:54.694Z"
   },
   {
    "duration": 13,
    "start_time": "2023-05-11T12:16:18.953Z"
   },
   {
    "duration": 13,
    "start_time": "2023-05-11T12:23:56.026Z"
   },
   {
    "duration": 9,
    "start_time": "2023-05-11T12:23:58.776Z"
   },
   {
    "duration": 9,
    "start_time": "2023-05-11T12:26:06.489Z"
   },
   {
    "duration": 5,
    "start_time": "2023-05-11T12:27:17.673Z"
   },
   {
    "duration": 8,
    "start_time": "2023-05-11T12:29:41.017Z"
   },
   {
    "duration": 6,
    "start_time": "2023-05-11T12:33:08.181Z"
   },
   {
    "duration": 1239,
    "start_time": "2023-05-11T12:37:19.882Z"
   },
   {
    "duration": 8,
    "start_time": "2023-05-11T12:38:06.694Z"
   },
   {
    "duration": 121,
    "start_time": "2023-05-11T12:38:15.290Z"
   },
   {
    "duration": 9,
    "start_time": "2023-05-11T12:38:30.463Z"
   },
   {
    "duration": 43,
    "start_time": "2023-05-11T12:42:54.246Z"
   },
   {
    "duration": 396,
    "start_time": "2023-05-11T12:47:43.748Z"
   },
   {
    "duration": 8472,
    "start_time": "2023-05-11T13:01:01.924Z"
   },
   {
    "duration": 29,
    "start_time": "2023-05-11T13:02:50.071Z"
   },
   {
    "duration": 2349,
    "start_time": "2023-05-11T13:04:22.721Z"
   },
   {
    "duration": 22,
    "start_time": "2023-05-11T13:04:25.073Z"
   },
   {
    "duration": 2745,
    "start_time": "2023-05-11T13:04:40.718Z"
   },
   {
    "duration": 21,
    "start_time": "2023-05-11T13:04:47.289Z"
   },
   {
    "duration": 16,
    "start_time": "2023-05-11T13:30:41.230Z"
   },
   {
    "duration": 6113,
    "start_time": "2023-05-11T13:31:32.295Z"
   },
   {
    "duration": 28,
    "start_time": "2023-05-11T13:31:38.411Z"
   },
   {
    "duration": 5896,
    "start_time": "2023-05-11T13:31:47.400Z"
   },
   {
    "duration": 26,
    "start_time": "2023-05-11T13:31:53.299Z"
   },
   {
    "duration": 402,
    "start_time": "2023-05-11T13:32:55.179Z"
   },
   {
    "duration": 12,
    "start_time": "2023-05-11T13:32:55.584Z"
   },
   {
    "duration": 33,
    "start_time": "2023-05-11T13:32:55.598Z"
   },
   {
    "duration": 6,
    "start_time": "2023-05-11T13:32:55.634Z"
   },
   {
    "duration": 10,
    "start_time": "2023-05-11T13:32:55.644Z"
   },
   {
    "duration": 15,
    "start_time": "2023-05-11T13:32:55.656Z"
   },
   {
    "duration": 1226,
    "start_time": "2023-05-11T13:32:55.673Z"
   },
   {
    "duration": 27,
    "start_time": "2023-05-11T13:32:56.901Z"
   },
   {
    "duration": 4,
    "start_time": "2023-05-11T13:32:56.930Z"
   },
   {
    "duration": 12,
    "start_time": "2023-05-11T13:32:56.936Z"
   },
   {
    "duration": 84,
    "start_time": "2023-05-11T13:32:56.949Z"
   },
   {
    "duration": 141,
    "start_time": "2023-05-11T13:32:57.035Z"
   },
   {
    "duration": 0,
    "start_time": "2023-05-11T13:32:57.178Z"
   },
   {
    "duration": 0,
    "start_time": "2023-05-11T13:32:57.180Z"
   },
   {
    "duration": 291,
    "start_time": "2023-05-11T13:33:32.535Z"
   },
   {
    "duration": 431,
    "start_time": "2023-05-11T13:33:52.562Z"
   },
   {
    "duration": 10,
    "start_time": "2023-05-11T13:33:52.995Z"
   },
   {
    "duration": 63,
    "start_time": "2023-05-11T13:33:53.007Z"
   },
   {
    "duration": 39,
    "start_time": "2023-05-11T13:33:53.073Z"
   },
   {
    "duration": 38,
    "start_time": "2023-05-11T13:33:53.113Z"
   },
   {
    "duration": 35,
    "start_time": "2023-05-11T13:33:53.153Z"
   },
   {
    "duration": 1120,
    "start_time": "2023-05-11T13:33:53.190Z"
   },
   {
    "duration": 28,
    "start_time": "2023-05-11T13:33:54.311Z"
   },
   {
    "duration": 7,
    "start_time": "2023-05-11T13:33:54.341Z"
   },
   {
    "duration": 6,
    "start_time": "2023-05-11T13:33:54.351Z"
   },
   {
    "duration": 72,
    "start_time": "2023-05-11T13:33:54.358Z"
   },
   {
    "duration": 415,
    "start_time": "2023-05-11T13:33:54.432Z"
   },
   {
    "duration": 5422,
    "start_time": "2023-05-11T13:33:54.851Z"
   },
   {
    "duration": 218,
    "start_time": "2023-05-11T13:34:00.275Z"
   },
   {
    "duration": 38,
    "start_time": "2023-05-11T13:34:27.759Z"
   },
   {
    "duration": 44,
    "start_time": "2023-05-11T13:34:34.844Z"
   },
   {
    "duration": 492,
    "start_time": "2023-05-11T13:34:45.141Z"
   },
   {
    "duration": 12,
    "start_time": "2023-05-11T13:34:45.634Z"
   },
   {
    "duration": 35,
    "start_time": "2023-05-11T13:34:45.648Z"
   },
   {
    "duration": 5,
    "start_time": "2023-05-11T13:34:45.685Z"
   },
   {
    "duration": 62,
    "start_time": "2023-05-11T13:34:45.693Z"
   },
   {
    "duration": 36,
    "start_time": "2023-05-11T13:34:45.757Z"
   },
   {
    "duration": 1049,
    "start_time": "2023-05-11T13:34:45.795Z"
   },
   {
    "duration": 10,
    "start_time": "2023-05-11T13:34:46.846Z"
   },
   {
    "duration": 18,
    "start_time": "2023-05-11T13:34:46.857Z"
   },
   {
    "duration": 23,
    "start_time": "2023-05-11T13:34:46.877Z"
   },
   {
    "duration": 99,
    "start_time": "2023-05-11T13:34:46.902Z"
   },
   {
    "duration": 428,
    "start_time": "2023-05-11T13:34:47.003Z"
   },
   {
    "duration": 5667,
    "start_time": "2023-05-11T13:34:47.435Z"
   },
   {
    "duration": 115,
    "start_time": "2023-05-11T13:34:53.105Z"
   },
   {
    "duration": 709,
    "start_time": "2023-05-11T13:35:26.523Z"
   },
   {
    "duration": 437,
    "start_time": "2023-05-11T13:36:22.675Z"
   },
   {
    "duration": 9,
    "start_time": "2023-05-11T13:36:23.115Z"
   },
   {
    "duration": 38,
    "start_time": "2023-05-11T13:36:23.126Z"
   },
   {
    "duration": 4,
    "start_time": "2023-05-11T13:36:23.166Z"
   },
   {
    "duration": 11,
    "start_time": "2023-05-11T13:36:23.171Z"
   },
   {
    "duration": 15,
    "start_time": "2023-05-11T13:36:23.183Z"
   },
   {
    "duration": 1114,
    "start_time": "2023-05-11T13:36:23.200Z"
   },
   {
    "duration": 24,
    "start_time": "2023-05-11T13:36:24.315Z"
   },
   {
    "duration": 27,
    "start_time": "2023-05-11T13:36:24.341Z"
   },
   {
    "duration": 17,
    "start_time": "2023-05-11T13:36:24.370Z"
   },
   {
    "duration": 76,
    "start_time": "2023-05-11T13:36:24.389Z"
   },
   {
    "duration": 1084,
    "start_time": "2023-05-11T13:36:24.467Z"
   },
   {
    "duration": 6006,
    "start_time": "2023-05-11T13:36:25.557Z"
   },
   {
    "duration": 102,
    "start_time": "2023-05-11T13:36:31.565Z"
   },
   {
    "duration": 131,
    "start_time": "2023-05-11T13:42:21.232Z"
   },
   {
    "duration": 12,
    "start_time": "2023-05-11T13:42:37.777Z"
   },
   {
    "duration": 12,
    "start_time": "2023-05-11T13:46:38.197Z"
   },
   {
    "duration": 362,
    "start_time": "2023-05-11T13:46:55.580Z"
   },
   {
    "duration": 440,
    "start_time": "2023-05-11T13:48:30.636Z"
   },
   {
    "duration": 11,
    "start_time": "2023-05-11T13:48:31.078Z"
   },
   {
    "duration": 41,
    "start_time": "2023-05-11T13:48:31.091Z"
   },
   {
    "duration": 25,
    "start_time": "2023-05-11T13:48:31.135Z"
   },
   {
    "duration": 30,
    "start_time": "2023-05-11T13:48:31.161Z"
   },
   {
    "duration": 29,
    "start_time": "2023-05-11T13:48:31.193Z"
   },
   {
    "duration": 1392,
    "start_time": "2023-05-11T13:48:31.224Z"
   },
   {
    "duration": 14,
    "start_time": "2023-05-11T13:48:32.617Z"
   },
   {
    "duration": 35,
    "start_time": "2023-05-11T13:48:32.633Z"
   },
   {
    "duration": 18,
    "start_time": "2023-05-11T13:48:32.670Z"
   },
   {
    "duration": 106,
    "start_time": "2023-05-11T13:48:32.689Z"
   },
   {
    "duration": 237,
    "start_time": "2023-05-11T13:48:32.797Z"
   },
   {
    "duration": 6200,
    "start_time": "2023-05-11T13:48:33.129Z"
   },
   {
    "duration": 103,
    "start_time": "2023-05-11T13:48:39.331Z"
   },
   {
    "duration": 487,
    "start_time": "2023-05-11T13:48:39.435Z"
   },
   {
    "duration": 67,
    "start_time": "2023-05-11T13:50:23.724Z"
   },
   {
    "duration": 51,
    "start_time": "2023-05-11T13:51:39.473Z"
   },
   {
    "duration": 30,
    "start_time": "2023-05-11T13:52:11.708Z"
   },
   {
    "duration": 381,
    "start_time": "2023-05-11T13:52:31.592Z"
   },
   {
    "duration": 347,
    "start_time": "2023-05-11T13:57:53.832Z"
   },
   {
    "duration": 272,
    "start_time": "2023-05-11T14:04:44.779Z"
   },
   {
    "duration": 918,
    "start_time": "2023-05-11T14:06:19.974Z"
   },
   {
    "duration": 435,
    "start_time": "2023-05-11T14:10:06.435Z"
   },
   {
    "duration": 8,
    "start_time": "2023-05-11T14:10:06.872Z"
   },
   {
    "duration": 35,
    "start_time": "2023-05-11T14:10:06.881Z"
   },
   {
    "duration": 9,
    "start_time": "2023-05-11T14:10:06.918Z"
   },
   {
    "duration": 24,
    "start_time": "2023-05-11T14:10:06.929Z"
   },
   {
    "duration": 32,
    "start_time": "2023-05-11T14:10:06.955Z"
   },
   {
    "duration": 1203,
    "start_time": "2023-05-11T14:10:06.989Z"
   },
   {
    "duration": 11,
    "start_time": "2023-05-11T14:10:08.194Z"
   },
   {
    "duration": 27,
    "start_time": "2023-05-11T14:10:08.206Z"
   },
   {
    "duration": 17,
    "start_time": "2023-05-11T14:10:08.235Z"
   },
   {
    "duration": 218,
    "start_time": "2023-05-11T14:10:08.254Z"
   },
   {
    "duration": 447,
    "start_time": "2023-05-11T14:10:59.074Z"
   },
   {
    "duration": 10,
    "start_time": "2023-05-11T14:10:59.523Z"
   },
   {
    "duration": 22,
    "start_time": "2023-05-11T14:10:59.534Z"
   },
   {
    "duration": 4,
    "start_time": "2023-05-11T14:10:59.558Z"
   },
   {
    "duration": 12,
    "start_time": "2023-05-11T14:10:59.564Z"
   },
   {
    "duration": 13,
    "start_time": "2023-05-11T14:10:59.577Z"
   },
   {
    "duration": 1275,
    "start_time": "2023-05-11T14:10:59.591Z"
   },
   {
    "duration": 9,
    "start_time": "2023-05-11T14:11:00.868Z"
   },
   {
    "duration": 13,
    "start_time": "2023-05-11T14:11:00.879Z"
   },
   {
    "duration": 35,
    "start_time": "2023-05-11T14:11:00.894Z"
   },
   {
    "duration": 101,
    "start_time": "2023-05-11T14:11:00.930Z"
   },
   {
    "duration": 300,
    "start_time": "2023-05-11T14:11:01.033Z"
   },
   {
    "duration": 179,
    "start_time": "2023-05-11T14:11:31.496Z"
   },
   {
    "duration": 555,
    "start_time": "2023-05-11T14:11:47.273Z"
   },
   {
    "duration": 22,
    "start_time": "2023-05-11T14:16:30.589Z"
   },
   {
    "duration": 14,
    "start_time": "2023-05-11T14:16:44.113Z"
   },
   {
    "duration": 12,
    "start_time": "2023-05-11T14:19:44.317Z"
   },
   {
    "duration": 1334,
    "start_time": "2023-05-11T18:58:11.722Z"
   },
   {
    "duration": 619,
    "start_time": "2023-05-11T18:58:24.270Z"
   },
   {
    "duration": 10,
    "start_time": "2023-05-11T18:58:24.892Z"
   },
   {
    "duration": 41,
    "start_time": "2023-05-11T18:58:24.904Z"
   },
   {
    "duration": 18,
    "start_time": "2023-05-11T18:58:24.947Z"
   },
   {
    "duration": 8,
    "start_time": "2023-05-11T18:58:24.968Z"
   },
   {
    "duration": 13,
    "start_time": "2023-05-11T18:58:24.977Z"
   },
   {
    "duration": 1325,
    "start_time": "2023-05-11T18:58:24.992Z"
   },
   {
    "duration": 14,
    "start_time": "2023-05-11T18:58:26.319Z"
   },
   {
    "duration": 6,
    "start_time": "2023-05-11T18:58:26.335Z"
   },
   {
    "duration": 12,
    "start_time": "2023-05-11T18:58:26.342Z"
   },
   {
    "duration": 306,
    "start_time": "2023-05-11T18:58:26.355Z"
   },
   {
    "duration": 456,
    "start_time": "2023-05-11T18:58:26.662Z"
   },
   {
    "duration": 105,
    "start_time": "2023-05-11T18:58:27.120Z"
   },
   {
    "duration": 1927,
    "start_time": "2023-05-11T19:02:36.309Z"
   },
   {
    "duration": 138,
    "start_time": "2023-05-11T19:12:05.474Z"
   },
   {
    "duration": 7099,
    "start_time": "2023-05-11T19:39:16.655Z"
   },
   {
    "duration": 4685,
    "start_time": "2023-05-11T19:43:26.984Z"
   },
   {
    "duration": 4102,
    "start_time": "2023-05-11T19:46:44.648Z"
   },
   {
    "duration": 3954,
    "start_time": "2023-05-11T19:48:38.309Z"
   },
   {
    "duration": 184,
    "start_time": "2023-05-11T19:57:27.280Z"
   },
   {
    "duration": 659,
    "start_time": "2023-05-11T20:02:10.281Z"
   },
   {
    "duration": 10,
    "start_time": "2023-05-11T20:02:10.943Z"
   },
   {
    "duration": 82,
    "start_time": "2023-05-11T20:02:10.954Z"
   },
   {
    "duration": 5,
    "start_time": "2023-05-11T20:02:11.038Z"
   },
   {
    "duration": 12,
    "start_time": "2023-05-11T20:02:11.045Z"
   },
   {
    "duration": 19,
    "start_time": "2023-05-11T20:02:11.060Z"
   },
   {
    "duration": 1145,
    "start_time": "2023-05-11T20:02:11.081Z"
   },
   {
    "duration": 10,
    "start_time": "2023-05-11T20:02:12.235Z"
   },
   {
    "duration": 5,
    "start_time": "2023-05-11T20:02:12.246Z"
   },
   {
    "duration": 10,
    "start_time": "2023-05-11T20:02:12.252Z"
   },
   {
    "duration": 252,
    "start_time": "2023-05-11T20:02:12.263Z"
   },
   {
    "duration": 4936,
    "start_time": "2023-05-11T20:02:12.517Z"
   },
   {
    "duration": 2797,
    "start_time": "2023-05-11T20:02:17.455Z"
   },
   {
    "duration": 8408,
    "start_time": "2023-05-11T20:02:20.254Z"
   },
   {
    "duration": 2594,
    "start_time": "2023-05-11T20:02:28.665Z"
   },
   {
    "duration": 183,
    "start_time": "2023-05-11T20:02:31.261Z"
   },
   {
    "duration": 1123,
    "start_time": "2023-05-12T10:37:10.476Z"
   },
   {
    "duration": 277,
    "start_time": "2023-05-12T10:37:33.949Z"
   },
   {
    "duration": 9,
    "start_time": "2023-05-12T10:37:35.852Z"
   },
   {
    "duration": 21,
    "start_time": "2023-05-12T10:37:35.980Z"
   },
   {
    "duration": 5,
    "start_time": "2023-05-12T10:37:36.143Z"
   },
   {
    "duration": 7,
    "start_time": "2023-05-12T10:37:36.506Z"
   },
   {
    "duration": 26,
    "start_time": "2023-05-12T10:37:37.278Z"
   },
   {
    "duration": 808,
    "start_time": "2023-05-12T10:37:37.936Z"
   },
   {
    "duration": 11,
    "start_time": "2023-05-12T10:37:38.746Z"
   },
   {
    "duration": 12,
    "start_time": "2023-05-12T10:37:38.759Z"
   },
   {
    "duration": 6,
    "start_time": "2023-05-12T10:37:39.203Z"
   },
   {
    "duration": 8,
    "start_time": "2023-05-12T10:37:39.903Z"
   },
   {
    "duration": 2697,
    "start_time": "2023-05-12T10:37:41.800Z"
   },
   {
    "duration": 50,
    "start_time": "2023-05-12T10:39:13.903Z"
   },
   {
    "duration": 20,
    "start_time": "2023-05-12T10:59:47.637Z"
   },
   {
    "duration": 429,
    "start_time": "2023-05-12T11:00:57.449Z"
   },
   {
    "duration": 10,
    "start_time": "2023-05-12T11:00:57.880Z"
   },
   {
    "duration": 40,
    "start_time": "2023-05-12T11:00:57.891Z"
   },
   {
    "duration": 5,
    "start_time": "2023-05-12T11:00:57.933Z"
   },
   {
    "duration": 11,
    "start_time": "2023-05-12T11:00:57.941Z"
   },
   {
    "duration": 15,
    "start_time": "2023-05-12T11:00:57.954Z"
   },
   {
    "duration": 1067,
    "start_time": "2023-05-12T11:00:57.971Z"
   },
   {
    "duration": 13,
    "start_time": "2023-05-12T11:00:59.040Z"
   },
   {
    "duration": 5,
    "start_time": "2023-05-12T11:00:59.055Z"
   },
   {
    "duration": 27,
    "start_time": "2023-05-12T11:00:59.061Z"
   },
   {
    "duration": 1539,
    "start_time": "2023-05-12T11:00:59.090Z"
   },
   {
    "duration": 1688,
    "start_time": "2023-05-12T11:01:00.632Z"
   },
   {
    "duration": 3715,
    "start_time": "2023-05-12T11:01:02.322Z"
   },
   {
    "duration": 1689,
    "start_time": "2023-05-12T11:01:06.040Z"
   },
   {
    "duration": 206,
    "start_time": "2023-05-12T11:01:07.731Z"
   },
   {
    "duration": 94,
    "start_time": "2023-05-12T11:12:17.120Z"
   },
   {
    "duration": 970,
    "start_time": "2023-05-12T11:13:08.174Z"
   },
   {
    "duration": 926,
    "start_time": "2023-05-12T11:15:01.516Z"
   },
   {
    "duration": 136,
    "start_time": "2023-05-12T11:20:19.375Z"
   },
   {
    "duration": 436,
    "start_time": "2023-05-12T11:20:35.925Z"
   },
   {
    "duration": 12,
    "start_time": "2023-05-12T11:20:36.363Z"
   },
   {
    "duration": 25,
    "start_time": "2023-05-12T11:20:36.377Z"
   },
   {
    "duration": 4,
    "start_time": "2023-05-12T11:20:36.405Z"
   },
   {
    "duration": 22,
    "start_time": "2023-05-12T11:20:36.412Z"
   },
   {
    "duration": 16,
    "start_time": "2023-05-12T11:20:36.436Z"
   },
   {
    "duration": 1094,
    "start_time": "2023-05-12T11:20:36.454Z"
   },
   {
    "duration": 11,
    "start_time": "2023-05-12T11:20:37.550Z"
   },
   {
    "duration": 18,
    "start_time": "2023-05-12T11:20:37.563Z"
   },
   {
    "duration": 12,
    "start_time": "2023-05-12T11:20:37.587Z"
   },
   {
    "duration": 1430,
    "start_time": "2023-05-12T11:20:37.601Z"
   },
   {
    "duration": 1762,
    "start_time": "2023-05-12T11:20:39.034Z"
   },
   {
    "duration": 157,
    "start_time": "2023-05-12T11:20:40.798Z"
   },
   {
    "duration": 0,
    "start_time": "2023-05-12T11:20:40.959Z"
   },
   {
    "duration": 21,
    "start_time": "2023-05-12T11:21:16.122Z"
   },
   {
    "duration": 496,
    "start_time": "2023-05-12T11:25:05.960Z"
   },
   {
    "duration": 9,
    "start_time": "2023-05-12T11:25:06.458Z"
   },
   {
    "duration": 19,
    "start_time": "2023-05-12T11:25:06.469Z"
   },
   {
    "duration": 6,
    "start_time": "2023-05-12T11:25:06.490Z"
   },
   {
    "duration": 17,
    "start_time": "2023-05-12T11:25:06.499Z"
   },
   {
    "duration": 20,
    "start_time": "2023-05-12T11:25:06.518Z"
   },
   {
    "duration": 1158,
    "start_time": "2023-05-12T11:25:06.540Z"
   },
   {
    "duration": 13,
    "start_time": "2023-05-12T11:25:07.701Z"
   },
   {
    "duration": 10,
    "start_time": "2023-05-12T11:25:07.716Z"
   },
   {
    "duration": 24,
    "start_time": "2023-05-12T11:25:07.728Z"
   },
   {
    "duration": 1682,
    "start_time": "2023-05-12T11:25:07.754Z"
   },
   {
    "duration": 29,
    "start_time": "2023-05-12T11:25:09.438Z"
   },
   {
    "duration": 169,
    "start_time": "2023-05-12T11:25:09.469Z"
   },
   {
    "duration": 0,
    "start_time": "2023-05-12T11:25:09.640Z"
   },
   {
    "duration": 78,
    "start_time": "2023-05-12T11:32:44.889Z"
   },
   {
    "duration": 13,
    "start_time": "2023-05-12T11:32:52.280Z"
   },
   {
    "duration": 7043,
    "start_time": "2023-05-12T11:33:32.735Z"
   },
   {
    "duration": 25,
    "start_time": "2023-05-12T11:33:39.781Z"
   },
   {
    "duration": 475,
    "start_time": "2023-05-12T11:33:51.371Z"
   },
   {
    "duration": 9,
    "start_time": "2023-05-12T11:33:51.848Z"
   },
   {
    "duration": 21,
    "start_time": "2023-05-12T11:33:51.859Z"
   },
   {
    "duration": 5,
    "start_time": "2023-05-12T11:33:51.882Z"
   },
   {
    "duration": 8,
    "start_time": "2023-05-12T11:33:51.889Z"
   },
   {
    "duration": 16,
    "start_time": "2023-05-12T11:33:51.899Z"
   },
   {
    "duration": 1129,
    "start_time": "2023-05-12T11:33:51.917Z"
   },
   {
    "duration": 11,
    "start_time": "2023-05-12T11:33:53.048Z"
   },
   {
    "duration": 4,
    "start_time": "2023-05-12T11:33:53.061Z"
   },
   {
    "duration": 21,
    "start_time": "2023-05-12T11:33:53.067Z"
   },
   {
    "duration": 1442,
    "start_time": "2023-05-12T11:33:53.091Z"
   },
   {
    "duration": 31,
    "start_time": "2023-05-12T11:33:54.535Z"
   },
   {
    "duration": 2249,
    "start_time": "2023-05-12T11:33:54.567Z"
   },
   {
    "duration": 326,
    "start_time": "2023-05-12T11:33:56.819Z"
   },
   {
    "duration": 169,
    "start_time": "2023-05-12T11:33:57.146Z"
   },
   {
    "duration": 2254,
    "start_time": "2023-05-12T11:40:36.404Z"
   },
   {
    "duration": 11,
    "start_time": "2023-05-12T11:40:41.985Z"
   },
   {
    "duration": 487,
    "start_time": "2023-05-12T11:40:57.559Z"
   },
   {
    "duration": 10,
    "start_time": "2023-05-12T11:40:58.048Z"
   },
   {
    "duration": 23,
    "start_time": "2023-05-12T11:40:58.060Z"
   },
   {
    "duration": 4,
    "start_time": "2023-05-12T11:40:58.085Z"
   },
   {
    "duration": 9,
    "start_time": "2023-05-12T11:40:58.091Z"
   },
   {
    "duration": 16,
    "start_time": "2023-05-12T11:40:58.101Z"
   },
   {
    "duration": 1112,
    "start_time": "2023-05-12T11:40:58.119Z"
   },
   {
    "duration": 11,
    "start_time": "2023-05-12T11:40:59.233Z"
   },
   {
    "duration": 5,
    "start_time": "2023-05-12T11:40:59.246Z"
   },
   {
    "duration": 5,
    "start_time": "2023-05-12T11:40:59.253Z"
   },
   {
    "duration": 1539,
    "start_time": "2023-05-12T11:40:59.288Z"
   },
   {
    "duration": 2256,
    "start_time": "2023-05-12T11:41:00.829Z"
   },
   {
    "duration": 182,
    "start_time": "2023-05-12T11:41:03.087Z"
   },
   {
    "duration": 0,
    "start_time": "2023-05-12T11:41:03.270Z"
   },
   {
    "duration": 0,
    "start_time": "2023-05-12T11:41:03.272Z"
   },
   {
    "duration": 0,
    "start_time": "2023-05-12T11:41:03.273Z"
   },
   {
    "duration": 16,
    "start_time": "2023-05-12T11:42:36.817Z"
   },
   {
    "duration": 21,
    "start_time": "2023-05-12T11:42:43.922Z"
   },
   {
    "duration": 216,
    "start_time": "2023-05-12T11:43:08.634Z"
   },
   {
    "duration": 802,
    "start_time": "2023-05-12T12:12:09.205Z"
   },
   {
    "duration": 32,
    "start_time": "2023-05-12T12:23:51.444Z"
   },
   {
    "duration": 422,
    "start_time": "2023-05-12T12:24:04.243Z"
   },
   {
    "duration": 9,
    "start_time": "2023-05-12T12:24:04.668Z"
   },
   {
    "duration": 27,
    "start_time": "2023-05-12T12:24:04.678Z"
   },
   {
    "duration": 9,
    "start_time": "2023-05-12T12:24:04.707Z"
   },
   {
    "duration": 25,
    "start_time": "2023-05-12T12:24:04.717Z"
   },
   {
    "duration": 40,
    "start_time": "2023-05-12T12:24:04.743Z"
   },
   {
    "duration": 1196,
    "start_time": "2023-05-12T12:24:04.785Z"
   },
   {
    "duration": 23,
    "start_time": "2023-05-12T12:24:05.983Z"
   },
   {
    "duration": 27,
    "start_time": "2023-05-12T12:24:06.009Z"
   },
   {
    "duration": 8,
    "start_time": "2023-05-12T12:24:06.039Z"
   },
   {
    "duration": 1385,
    "start_time": "2023-05-12T12:24:06.049Z"
   },
   {
    "duration": 180,
    "start_time": "2023-05-12T12:24:07.436Z"
   },
   {
    "duration": 0,
    "start_time": "2023-05-12T12:24:07.618Z"
   },
   {
    "duration": 0,
    "start_time": "2023-05-12T12:24:07.619Z"
   },
   {
    "duration": 39,
    "start_time": "2023-05-12T12:24:35.983Z"
   },
   {
    "duration": 33,
    "start_time": "2023-05-12T12:27:33.605Z"
   },
   {
    "duration": 25,
    "start_time": "2023-05-12T12:28:07.327Z"
   },
   {
    "duration": 31,
    "start_time": "2023-05-12T12:30:07.414Z"
   },
   {
    "duration": 83,
    "start_time": "2023-05-12T12:34:04.100Z"
   },
   {
    "duration": 1989,
    "start_time": "2023-05-12T12:34:26.952Z"
   },
   {
    "duration": 1618,
    "start_time": "2023-05-12T12:36:28.508Z"
   },
   {
    "duration": 815,
    "start_time": "2023-05-12T12:38:31.704Z"
   },
   {
    "duration": 800,
    "start_time": "2023-05-12T12:39:03.940Z"
   },
   {
    "duration": 823,
    "start_time": "2023-05-12T12:39:16.817Z"
   },
   {
    "duration": 905,
    "start_time": "2023-05-12T12:39:33.016Z"
   },
   {
    "duration": 1223,
    "start_time": "2023-05-12T12:50:48.076Z"
   },
   {
    "duration": 509,
    "start_time": "2023-05-12T13:00:56.211Z"
   },
   {
    "duration": 11,
    "start_time": "2023-05-12T13:00:56.723Z"
   },
   {
    "duration": 21,
    "start_time": "2023-05-12T13:00:56.736Z"
   },
   {
    "duration": 6,
    "start_time": "2023-05-12T13:00:56.759Z"
   },
   {
    "duration": 23,
    "start_time": "2023-05-12T13:00:56.788Z"
   },
   {
    "duration": 17,
    "start_time": "2023-05-12T13:00:56.813Z"
   },
   {
    "duration": 1228,
    "start_time": "2023-05-12T13:00:56.831Z"
   },
   {
    "duration": 12,
    "start_time": "2023-05-12T13:00:58.061Z"
   },
   {
    "duration": 16,
    "start_time": "2023-05-12T13:00:58.088Z"
   },
   {
    "duration": 7,
    "start_time": "2023-05-12T13:00:58.108Z"
   },
   {
    "duration": 1625,
    "start_time": "2023-05-12T13:00:58.120Z"
   },
   {
    "duration": 190,
    "start_time": "2023-05-12T13:00:59.747Z"
   },
   {
    "duration": 0,
    "start_time": "2023-05-12T13:00:59.939Z"
   },
   {
    "duration": 0,
    "start_time": "2023-05-12T13:00:59.940Z"
   },
   {
    "duration": 460,
    "start_time": "2023-05-12T13:01:18.154Z"
   },
   {
    "duration": 13,
    "start_time": "2023-05-12T13:01:18.617Z"
   },
   {
    "duration": 21,
    "start_time": "2023-05-12T13:01:18.632Z"
   },
   {
    "duration": 5,
    "start_time": "2023-05-12T13:01:18.655Z"
   },
   {
    "duration": 29,
    "start_time": "2023-05-12T13:01:18.662Z"
   },
   {
    "duration": 20,
    "start_time": "2023-05-12T13:01:18.693Z"
   },
   {
    "duration": 1299,
    "start_time": "2023-05-12T13:01:18.716Z"
   },
   {
    "duration": 15,
    "start_time": "2023-05-12T13:01:20.017Z"
   },
   {
    "duration": 6,
    "start_time": "2023-05-12T13:01:20.035Z"
   },
   {
    "duration": 11,
    "start_time": "2023-05-12T13:01:20.043Z"
   },
   {
    "duration": 1764,
    "start_time": "2023-05-12T13:01:20.057Z"
   },
   {
    "duration": 194,
    "start_time": "2023-05-12T13:01:21.824Z"
   },
   {
    "duration": 0,
    "start_time": "2023-05-12T13:01:22.021Z"
   },
   {
    "duration": 0,
    "start_time": "2023-05-12T13:01:22.023Z"
   },
   {
    "duration": 26,
    "start_time": "2023-05-12T13:03:59.643Z"
   },
   {
    "duration": 23,
    "start_time": "2023-05-12T13:05:43.445Z"
   },
   {
    "duration": 457,
    "start_time": "2023-05-12T13:05:54.827Z"
   },
   {
    "duration": 15,
    "start_time": "2023-05-12T13:05:55.287Z"
   },
   {
    "duration": 23,
    "start_time": "2023-05-12T13:05:55.304Z"
   },
   {
    "duration": 5,
    "start_time": "2023-05-12T13:05:55.328Z"
   },
   {
    "duration": 14,
    "start_time": "2023-05-12T13:05:55.335Z"
   },
   {
    "duration": 16,
    "start_time": "2023-05-12T13:05:55.350Z"
   },
   {
    "duration": 1167,
    "start_time": "2023-05-12T13:05:55.368Z"
   },
   {
    "duration": 12,
    "start_time": "2023-05-12T13:05:56.537Z"
   },
   {
    "duration": 12,
    "start_time": "2023-05-12T13:05:56.551Z"
   },
   {
    "duration": 42,
    "start_time": "2023-05-12T13:05:56.565Z"
   },
   {
    "duration": 1452,
    "start_time": "2023-05-12T13:05:56.608Z"
   },
   {
    "duration": 185,
    "start_time": "2023-05-12T13:05:58.062Z"
   },
   {
    "duration": 0,
    "start_time": "2023-05-12T13:05:58.249Z"
   },
   {
    "duration": 0,
    "start_time": "2023-05-12T13:05:58.250Z"
   },
   {
    "duration": 46,
    "start_time": "2023-05-12T13:07:13.098Z"
   },
   {
    "duration": 472,
    "start_time": "2023-05-12T13:09:16.593Z"
   },
   {
    "duration": 12,
    "start_time": "2023-05-12T13:09:17.067Z"
   },
   {
    "duration": 48,
    "start_time": "2023-05-12T13:09:17.081Z"
   },
   {
    "duration": 17,
    "start_time": "2023-05-12T13:09:17.135Z"
   },
   {
    "duration": 133,
    "start_time": "2023-05-12T13:09:17.154Z"
   },
   {
    "duration": 37,
    "start_time": "2023-05-12T13:09:17.291Z"
   },
   {
    "duration": 1183,
    "start_time": "2023-05-12T13:09:17.330Z"
   },
   {
    "duration": 14,
    "start_time": "2023-05-12T13:09:18.516Z"
   },
   {
    "duration": 30,
    "start_time": "2023-05-12T13:09:18.532Z"
   },
   {
    "duration": 51,
    "start_time": "2023-05-12T13:09:18.565Z"
   },
   {
    "duration": 1419,
    "start_time": "2023-05-12T13:09:18.618Z"
   },
   {
    "duration": 194,
    "start_time": "2023-05-12T13:09:20.039Z"
   },
   {
    "duration": 0,
    "start_time": "2023-05-12T13:09:20.235Z"
   },
   {
    "duration": 0,
    "start_time": "2023-05-12T13:09:20.236Z"
   },
   {
    "duration": 8,
    "start_time": "2023-05-12T13:13:28.886Z"
   },
   {
    "duration": 1073,
    "start_time": "2023-05-12T13:13:35.055Z"
   },
   {
    "duration": 10,
    "start_time": "2023-05-12T13:13:36.130Z"
   },
   {
    "duration": 38,
    "start_time": "2023-05-12T13:13:36.143Z"
   },
   {
    "duration": 19,
    "start_time": "2023-05-12T13:13:36.184Z"
   },
   {
    "duration": 18,
    "start_time": "2023-05-12T13:13:36.205Z"
   },
   {
    "duration": 23,
    "start_time": "2023-05-12T13:13:36.225Z"
   },
   {
    "duration": 12,
    "start_time": "2023-05-12T13:13:36.251Z"
   },
   {
    "duration": 658,
    "start_time": "2023-05-12T13:13:36.265Z"
   },
   {
    "duration": 14,
    "start_time": "2023-05-12T13:13:36.927Z"
   },
   {
    "duration": 6,
    "start_time": "2023-05-12T13:13:36.945Z"
   },
   {
    "duration": 12,
    "start_time": "2023-05-12T13:13:36.953Z"
   },
   {
    "duration": 1460,
    "start_time": "2023-05-12T13:13:36.992Z"
   },
   {
    "duration": 196,
    "start_time": "2023-05-12T13:13:38.454Z"
   },
   {
    "duration": 0,
    "start_time": "2023-05-12T13:13:38.652Z"
   },
   {
    "duration": 0,
    "start_time": "2023-05-12T13:13:38.654Z"
   },
   {
    "duration": 1086,
    "start_time": "2023-05-12T13:16:15.589Z"
   },
   {
    "duration": 9,
    "start_time": "2023-05-12T13:16:16.677Z"
   },
   {
    "duration": 27,
    "start_time": "2023-05-12T13:16:16.688Z"
   },
   {
    "duration": 5,
    "start_time": "2023-05-12T13:16:16.717Z"
   },
   {
    "duration": 24,
    "start_time": "2023-05-12T13:16:16.724Z"
   },
   {
    "duration": 19,
    "start_time": "2023-05-12T13:16:16.749Z"
   },
   {
    "duration": 648,
    "start_time": "2023-05-12T13:16:16.770Z"
   },
   {
    "duration": 11,
    "start_time": "2023-05-12T13:16:17.420Z"
   },
   {
    "duration": 5,
    "start_time": "2023-05-12T13:16:17.432Z"
   },
   {
    "duration": 9,
    "start_time": "2023-05-12T13:16:17.439Z"
   },
   {
    "duration": 1482,
    "start_time": "2023-05-12T13:16:17.450Z"
   },
   {
    "duration": 180,
    "start_time": "2023-05-12T13:16:18.934Z"
   },
   {
    "duration": 0,
    "start_time": "2023-05-12T13:16:19.116Z"
   },
   {
    "duration": 0,
    "start_time": "2023-05-12T13:16:19.127Z"
   },
   {
    "duration": 1281,
    "start_time": "2023-05-12T13:19:04.262Z"
   },
   {
    "duration": 33,
    "start_time": "2023-05-12T13:19:40.874Z"
   },
   {
    "duration": 54,
    "start_time": "2023-05-12T13:24:16.849Z"
   },
   {
    "duration": 1084,
    "start_time": "2023-05-12T13:24:40.162Z"
   },
   {
    "duration": 10,
    "start_time": "2023-05-12T13:24:41.249Z"
   },
   {
    "duration": 26,
    "start_time": "2023-05-12T13:24:41.261Z"
   },
   {
    "duration": 4,
    "start_time": "2023-05-12T13:24:41.292Z"
   },
   {
    "duration": 26,
    "start_time": "2023-05-12T13:24:41.298Z"
   },
   {
    "duration": 19,
    "start_time": "2023-05-12T13:24:41.327Z"
   },
   {
    "duration": 665,
    "start_time": "2023-05-12T13:24:41.349Z"
   },
   {
    "duration": 13,
    "start_time": "2023-05-12T13:24:42.016Z"
   },
   {
    "duration": 6,
    "start_time": "2023-05-12T13:24:42.031Z"
   },
   {
    "duration": 7,
    "start_time": "2023-05-12T13:24:42.040Z"
   },
   {
    "duration": 1551,
    "start_time": "2023-05-12T13:24:42.048Z"
   },
   {
    "duration": 163,
    "start_time": "2023-05-12T13:24:43.600Z"
   },
   {
    "duration": 0,
    "start_time": "2023-05-12T13:24:43.765Z"
   },
   {
    "duration": 0,
    "start_time": "2023-05-12T13:24:43.766Z"
   },
   {
    "duration": 43,
    "start_time": "2023-05-12T13:26:36.690Z"
   },
   {
    "duration": 1938,
    "start_time": "2023-05-12T13:26:57.983Z"
   },
   {
    "duration": 1880,
    "start_time": "2023-05-12T13:27:12.681Z"
   },
   {
    "duration": 1151,
    "start_time": "2023-05-12T13:30:36.353Z"
   },
   {
    "duration": 11,
    "start_time": "2023-05-12T13:30:37.506Z"
   },
   {
    "duration": 37,
    "start_time": "2023-05-12T13:30:37.518Z"
   },
   {
    "duration": 5,
    "start_time": "2023-05-12T13:30:37.558Z"
   },
   {
    "duration": 23,
    "start_time": "2023-05-12T13:30:37.564Z"
   },
   {
    "duration": 29,
    "start_time": "2023-05-12T13:30:37.592Z"
   },
   {
    "duration": 628,
    "start_time": "2023-05-12T13:30:37.623Z"
   },
   {
    "duration": 11,
    "start_time": "2023-05-12T13:30:38.253Z"
   },
   {
    "duration": 6,
    "start_time": "2023-05-12T13:30:38.266Z"
   },
   {
    "duration": 10,
    "start_time": "2023-05-12T13:30:38.297Z"
   },
   {
    "duration": 1311,
    "start_time": "2023-05-12T13:30:38.309Z"
   },
   {
    "duration": 146,
    "start_time": "2023-05-12T13:30:39.622Z"
   },
   {
    "duration": 0,
    "start_time": "2023-05-12T13:30:39.770Z"
   },
   {
    "duration": 0,
    "start_time": "2023-05-12T13:30:39.771Z"
   },
   {
    "duration": 1093,
    "start_time": "2023-05-12T13:31:14.314Z"
   },
   {
    "duration": 9,
    "start_time": "2023-05-12T13:31:15.411Z"
   },
   {
    "duration": 25,
    "start_time": "2023-05-12T13:31:15.422Z"
   },
   {
    "duration": 15,
    "start_time": "2023-05-12T13:31:15.449Z"
   },
   {
    "duration": 22,
    "start_time": "2023-05-12T13:31:15.467Z"
   },
   {
    "duration": 19,
    "start_time": "2023-05-12T13:31:15.495Z"
   },
   {
    "duration": 701,
    "start_time": "2023-05-12T13:31:15.517Z"
   },
   {
    "duration": 12,
    "start_time": "2023-05-12T13:31:16.221Z"
   },
   {
    "duration": 5,
    "start_time": "2023-05-12T13:31:16.235Z"
   },
   {
    "duration": 12,
    "start_time": "2023-05-12T13:31:16.242Z"
   },
   {
    "duration": 1576,
    "start_time": "2023-05-12T13:31:16.256Z"
   },
   {
    "duration": 180,
    "start_time": "2023-05-12T13:31:17.835Z"
   },
   {
    "duration": 0,
    "start_time": "2023-05-12T13:31:18.017Z"
   },
   {
    "duration": 0,
    "start_time": "2023-05-12T13:31:18.018Z"
   },
   {
    "duration": 1115,
    "start_time": "2023-05-12T13:33:00.121Z"
   },
   {
    "duration": 9,
    "start_time": "2023-05-12T13:33:01.239Z"
   },
   {
    "duration": 28,
    "start_time": "2023-05-12T13:33:01.250Z"
   },
   {
    "duration": 19,
    "start_time": "2023-05-12T13:33:01.281Z"
   },
   {
    "duration": 23,
    "start_time": "2023-05-12T13:33:01.303Z"
   },
   {
    "duration": 34,
    "start_time": "2023-05-12T13:33:01.328Z"
   },
   {
    "duration": 669,
    "start_time": "2023-05-12T13:33:01.365Z"
   },
   {
    "duration": 12,
    "start_time": "2023-05-12T13:33:02.035Z"
   },
   {
    "duration": 15,
    "start_time": "2023-05-12T13:33:02.049Z"
   },
   {
    "duration": 37,
    "start_time": "2023-05-12T13:33:02.067Z"
   },
   {
    "duration": 1314,
    "start_time": "2023-05-12T13:33:02.108Z"
   },
   {
    "duration": 171,
    "start_time": "2023-05-12T13:33:03.424Z"
   },
   {
    "duration": 0,
    "start_time": "2023-05-12T13:33:03.597Z"
   },
   {
    "duration": 0,
    "start_time": "2023-05-12T13:33:03.599Z"
   },
   {
    "duration": 29,
    "start_time": "2023-05-12T13:34:26.621Z"
   },
   {
    "duration": 1003,
    "start_time": "2023-05-12T13:34:38.928Z"
   },
   {
    "duration": 9,
    "start_time": "2023-05-12T13:34:39.933Z"
   },
   {
    "duration": 21,
    "start_time": "2023-05-12T13:34:39.943Z"
   },
   {
    "duration": 5,
    "start_time": "2023-05-12T13:34:39.965Z"
   },
   {
    "duration": 11,
    "start_time": "2023-05-12T13:34:39.972Z"
   },
   {
    "duration": 26,
    "start_time": "2023-05-12T13:34:39.991Z"
   },
   {
    "duration": 690,
    "start_time": "2023-05-12T13:34:40.019Z"
   },
   {
    "duration": 11,
    "start_time": "2023-05-12T13:34:40.711Z"
   },
   {
    "duration": 4,
    "start_time": "2023-05-12T13:34:40.724Z"
   },
   {
    "duration": 7,
    "start_time": "2023-05-12T13:34:40.730Z"
   },
   {
    "duration": 1461,
    "start_time": "2023-05-12T13:34:40.739Z"
   },
   {
    "duration": 153,
    "start_time": "2023-05-12T13:34:42.206Z"
   },
   {
    "duration": 0,
    "start_time": "2023-05-12T13:34:42.361Z"
   },
   {
    "duration": 0,
    "start_time": "2023-05-12T13:34:42.363Z"
   },
   {
    "duration": 33,
    "start_time": "2023-05-12T13:39:39.119Z"
   },
   {
    "duration": 1089,
    "start_time": "2023-05-12T13:39:48.103Z"
   },
   {
    "duration": 9,
    "start_time": "2023-05-12T13:39:49.195Z"
   },
   {
    "duration": 23,
    "start_time": "2023-05-12T13:39:49.206Z"
   },
   {
    "duration": 5,
    "start_time": "2023-05-12T13:39:49.232Z"
   },
   {
    "duration": 9,
    "start_time": "2023-05-12T13:39:49.239Z"
   },
   {
    "duration": 39,
    "start_time": "2023-05-12T13:39:49.250Z"
   },
   {
    "duration": 586,
    "start_time": "2023-05-12T13:39:49.291Z"
   },
   {
    "duration": 18,
    "start_time": "2023-05-12T13:39:49.879Z"
   },
   {
    "duration": 6,
    "start_time": "2023-05-12T13:39:49.898Z"
   },
   {
    "duration": 6,
    "start_time": "2023-05-12T13:39:49.906Z"
   },
   {
    "duration": 1438,
    "start_time": "2023-05-12T13:39:49.914Z"
   },
   {
    "duration": 153,
    "start_time": "2023-05-12T13:39:51.355Z"
   },
   {
    "duration": 0,
    "start_time": "2023-05-12T13:39:51.511Z"
   },
   {
    "duration": 0,
    "start_time": "2023-05-12T13:39:51.513Z"
   },
   {
    "duration": 31,
    "start_time": "2023-05-12T13:43:13.081Z"
   },
   {
    "duration": 20,
    "start_time": "2023-05-12T13:48:24.764Z"
   },
   {
    "duration": 17,
    "start_time": "2023-05-12T13:51:54.903Z"
   },
   {
    "duration": 1594,
    "start_time": "2023-05-12T13:53:27.250Z"
   },
   {
    "duration": 1206,
    "start_time": "2023-05-12T13:54:38.605Z"
   },
   {
    "duration": 9,
    "start_time": "2023-05-12T13:54:39.815Z"
   },
   {
    "duration": 32,
    "start_time": "2023-05-12T13:54:39.826Z"
   },
   {
    "duration": 6,
    "start_time": "2023-05-12T13:54:39.861Z"
   },
   {
    "duration": 11,
    "start_time": "2023-05-12T13:54:39.868Z"
   },
   {
    "duration": 16,
    "start_time": "2023-05-12T13:54:39.889Z"
   },
   {
    "duration": 850,
    "start_time": "2023-05-12T13:54:39.907Z"
   },
   {
    "duration": 12,
    "start_time": "2023-05-12T13:54:40.759Z"
   },
   {
    "duration": 5,
    "start_time": "2023-05-12T13:54:40.772Z"
   },
   {
    "duration": 10,
    "start_time": "2023-05-12T13:54:40.792Z"
   },
   {
    "duration": 1236,
    "start_time": "2023-05-12T13:54:40.804Z"
   },
   {
    "duration": 1806,
    "start_time": "2023-05-12T13:54:42.043Z"
   },
   {
    "duration": 135,
    "start_time": "2023-05-12T13:54:43.887Z"
   },
   {
    "duration": 0,
    "start_time": "2023-05-12T13:54:44.025Z"
   },
   {
    "duration": 13,
    "start_time": "2023-05-12T13:57:45.742Z"
   },
   {
    "duration": 102,
    "start_time": "2023-05-12T14:02:07.736Z"
   },
   {
    "duration": 813,
    "start_time": "2023-05-12T14:02:21.103Z"
   },
   {
    "duration": 76,
    "start_time": "2023-05-12T14:10:07.476Z"
   },
   {
    "duration": 1621,
    "start_time": "2023-05-12T14:16:45.907Z"
   },
   {
    "duration": 8,
    "start_time": "2023-05-12T14:16:47.531Z"
   },
   {
    "duration": 31,
    "start_time": "2023-05-12T14:16:47.541Z"
   },
   {
    "duration": 17,
    "start_time": "2023-05-12T14:16:47.574Z"
   },
   {
    "duration": 25,
    "start_time": "2023-05-12T14:16:47.593Z"
   },
   {
    "duration": 20,
    "start_time": "2023-05-12T14:16:47.620Z"
   },
   {
    "duration": 705,
    "start_time": "2023-05-12T14:16:47.642Z"
   },
   {
    "duration": 11,
    "start_time": "2023-05-12T14:16:48.349Z"
   },
   {
    "duration": 16,
    "start_time": "2023-05-12T14:16:48.361Z"
   },
   {
    "duration": 33,
    "start_time": "2023-05-12T14:16:48.379Z"
   },
   {
    "duration": 1314,
    "start_time": "2023-05-12T14:16:48.414Z"
   },
   {
    "duration": 1813,
    "start_time": "2023-05-12T14:16:49.730Z"
   },
   {
    "duration": 954,
    "start_time": "2023-05-12T14:16:51.545Z"
   },
   {
    "duration": 1217,
    "start_time": "2023-05-12T14:16:52.502Z"
   },
   {
    "duration": 1027,
    "start_time": "2023-05-12T14:24:41.134Z"
   },
   {
    "duration": 9,
    "start_time": "2023-05-12T14:24:42.163Z"
   },
   {
    "duration": 26,
    "start_time": "2023-05-12T14:24:42.173Z"
   },
   {
    "duration": 6,
    "start_time": "2023-05-12T14:24:42.203Z"
   },
   {
    "duration": 9,
    "start_time": "2023-05-12T14:24:42.214Z"
   },
   {
    "duration": 15,
    "start_time": "2023-05-12T14:24:42.225Z"
   },
   {
    "duration": 678,
    "start_time": "2023-05-12T14:24:42.242Z"
   },
   {
    "duration": 12,
    "start_time": "2023-05-12T14:24:42.922Z"
   },
   {
    "duration": 5,
    "start_time": "2023-05-12T14:24:42.936Z"
   },
   {
    "duration": 12,
    "start_time": "2023-05-12T14:24:42.943Z"
   },
   {
    "duration": 1353,
    "start_time": "2023-05-12T14:24:42.957Z"
   },
   {
    "duration": 1735,
    "start_time": "2023-05-12T14:24:44.312Z"
   },
   {
    "duration": 870,
    "start_time": "2023-05-12T14:24:46.049Z"
   },
   {
    "duration": 1183,
    "start_time": "2023-05-12T14:24:46.922Z"
   },
   {
    "duration": 1073,
    "start_time": "2023-05-12T14:28:15.304Z"
   },
   {
    "duration": 9,
    "start_time": "2023-05-12T14:28:16.380Z"
   },
   {
    "duration": 40,
    "start_time": "2023-05-12T14:28:16.393Z"
   },
   {
    "duration": 5,
    "start_time": "2023-05-12T14:28:16.435Z"
   },
   {
    "duration": 24,
    "start_time": "2023-05-12T14:28:16.443Z"
   },
   {
    "duration": 20,
    "start_time": "2023-05-12T14:28:16.469Z"
   },
   {
    "duration": 675,
    "start_time": "2023-05-12T14:28:16.491Z"
   },
   {
    "duration": 24,
    "start_time": "2023-05-12T14:28:17.168Z"
   },
   {
    "duration": 18,
    "start_time": "2023-05-12T14:28:17.199Z"
   },
   {
    "duration": 35,
    "start_time": "2023-05-12T14:28:17.219Z"
   },
   {
    "duration": 1292,
    "start_time": "2023-05-12T14:28:17.256Z"
   },
   {
    "duration": 1799,
    "start_time": "2023-05-12T14:28:18.551Z"
   },
   {
    "duration": 981,
    "start_time": "2023-05-12T14:28:20.352Z"
   },
   {
    "duration": 1187,
    "start_time": "2023-05-12T14:28:21.336Z"
   },
   {
    "duration": 137,
    "start_time": "2023-05-12T14:31:22.132Z"
   },
   {
    "duration": 33,
    "start_time": "2023-05-12T14:32:03.005Z"
   },
   {
    "duration": 2523,
    "start_time": "2023-05-12T14:33:17.819Z"
   },
   {
    "duration": 1077,
    "start_time": "2023-05-12T14:36:22.954Z"
   },
   {
    "duration": 10,
    "start_time": "2023-05-12T14:36:24.033Z"
   },
   {
    "duration": 28,
    "start_time": "2023-05-12T14:36:24.045Z"
   },
   {
    "duration": 5,
    "start_time": "2023-05-12T14:36:24.076Z"
   },
   {
    "duration": 20,
    "start_time": "2023-05-12T14:36:24.083Z"
   },
   {
    "duration": 33,
    "start_time": "2023-05-12T14:36:24.105Z"
   },
   {
    "duration": 689,
    "start_time": "2023-05-12T14:36:24.140Z"
   },
   {
    "duration": 11,
    "start_time": "2023-05-12T14:36:24.831Z"
   },
   {
    "duration": 21,
    "start_time": "2023-05-12T14:36:24.844Z"
   },
   {
    "duration": 44,
    "start_time": "2023-05-12T14:36:24.867Z"
   },
   {
    "duration": 1705,
    "start_time": "2023-05-12T14:36:24.915Z"
   },
   {
    "duration": 1913,
    "start_time": "2023-05-12T14:36:26.623Z"
   },
   {
    "duration": 1000,
    "start_time": "2023-05-12T14:36:28.538Z"
   },
   {
    "duration": 1204,
    "start_time": "2023-05-12T14:37:06.702Z"
   },
   {
    "duration": 1229,
    "start_time": "2023-05-12T14:37:24.260Z"
   },
   {
    "duration": 1132,
    "start_time": "2023-05-12T14:37:38.876Z"
   },
   {
    "duration": 12,
    "start_time": "2023-05-12T14:37:40.011Z"
   },
   {
    "duration": 37,
    "start_time": "2023-05-12T14:37:40.026Z"
   },
   {
    "duration": 5,
    "start_time": "2023-05-12T14:37:40.065Z"
   },
   {
    "duration": 26,
    "start_time": "2023-05-12T14:37:40.072Z"
   },
   {
    "duration": 36,
    "start_time": "2023-05-12T14:37:40.102Z"
   },
   {
    "duration": 812,
    "start_time": "2023-05-12T14:37:40.140Z"
   },
   {
    "duration": 13,
    "start_time": "2023-05-12T14:37:40.955Z"
   },
   {
    "duration": 4,
    "start_time": "2023-05-12T14:37:40.970Z"
   },
   {
    "duration": 31,
    "start_time": "2023-05-12T14:37:40.976Z"
   },
   {
    "duration": 1327,
    "start_time": "2023-05-12T14:37:41.009Z"
   },
   {
    "duration": 1694,
    "start_time": "2023-05-12T14:37:42.338Z"
   },
   {
    "duration": 798,
    "start_time": "2023-05-12T14:37:44.034Z"
   },
   {
    "duration": 1223,
    "start_time": "2023-05-12T14:37:52.532Z"
   },
   {
    "duration": 1047,
    "start_time": "2023-05-12T14:39:54.132Z"
   },
   {
    "duration": 18,
    "start_time": "2023-05-12T14:39:55.181Z"
   },
   {
    "duration": 19,
    "start_time": "2023-05-12T14:39:55.258Z"
   },
   {
    "duration": 5,
    "start_time": "2023-05-12T14:39:55.429Z"
   },
   {
    "duration": 9,
    "start_time": "2023-05-12T14:39:55.819Z"
   },
   {
    "duration": 17,
    "start_time": "2023-05-12T14:39:56.158Z"
   },
   {
    "duration": 703,
    "start_time": "2023-05-12T14:39:56.688Z"
   },
   {
    "duration": 14,
    "start_time": "2023-05-12T14:39:57.394Z"
   },
   {
    "duration": 5,
    "start_time": "2023-05-12T14:39:58.552Z"
   },
   {
    "duration": 6,
    "start_time": "2023-05-12T14:39:59.237Z"
   },
   {
    "duration": 1375,
    "start_time": "2023-05-12T14:39:59.740Z"
   },
   {
    "duration": 1614,
    "start_time": "2023-05-12T14:40:05.122Z"
   },
   {
    "duration": 860,
    "start_time": "2023-05-12T14:40:15.802Z"
   },
   {
    "duration": 1271,
    "start_time": "2023-05-12T14:40:21.753Z"
   },
   {
    "duration": 1414,
    "start_time": "2023-05-12T14:42:36.386Z"
   },
   {
    "duration": 1891,
    "start_time": "2023-05-12T14:43:56.348Z"
   },
   {
    "duration": 3065,
    "start_time": "2023-05-12T16:07:49.913Z"
   },
   {
    "duration": 8,
    "start_time": "2023-05-12T16:07:52.980Z"
   },
   {
    "duration": 25,
    "start_time": "2023-05-12T16:07:52.989Z"
   },
   {
    "duration": 3,
    "start_time": "2023-05-12T16:07:53.016Z"
   },
   {
    "duration": 8,
    "start_time": "2023-05-12T16:07:53.021Z"
   },
   {
    "duration": 13,
    "start_time": "2023-05-12T16:07:53.030Z"
   },
   {
    "duration": 520,
    "start_time": "2023-05-12T16:07:53.045Z"
   },
   {
    "duration": 10,
    "start_time": "2023-05-12T16:07:53.567Z"
   },
   {
    "duration": 5,
    "start_time": "2023-05-12T16:07:53.579Z"
   },
   {
    "duration": 6,
    "start_time": "2023-05-12T16:07:53.585Z"
   },
   {
    "duration": 1091,
    "start_time": "2023-05-12T16:07:53.593Z"
   },
   {
    "duration": 6,
    "start_time": "2023-05-12T16:09:34.527Z"
   },
   {
    "duration": 5,
    "start_time": "2023-05-12T16:09:46.783Z"
   },
   {
    "duration": 24,
    "start_time": "2023-05-12T16:09:51.404Z"
   },
   {
    "duration": 103,
    "start_time": "2023-05-12T16:10:07.159Z"
   },
   {
    "duration": 5,
    "start_time": "2023-05-12T16:10:10.312Z"
   },
   {
    "duration": 5,
    "start_time": "2023-05-12T16:10:37.651Z"
   },
   {
    "duration": 15,
    "start_time": "2023-05-12T16:11:07.232Z"
   },
   {
    "duration": 5,
    "start_time": "2023-05-12T16:11:12.633Z"
   },
   {
    "duration": 3,
    "start_time": "2023-05-12T16:11:22.721Z"
   },
   {
    "duration": 23,
    "start_time": "2023-05-12T16:11:23.449Z"
   },
   {
    "duration": 4,
    "start_time": "2023-05-12T16:11:42.384Z"
   },
   {
    "duration": 1304,
    "start_time": "2023-05-12T16:12:14.573Z"
   },
   {
    "duration": 5,
    "start_time": "2023-05-12T16:12:18.391Z"
   },
   {
    "duration": 21,
    "start_time": "2023-05-12T16:12:24.047Z"
   },
   {
    "duration": 60,
    "start_time": "2023-05-12T16:57:44.222Z"
   },
   {
    "duration": 1259,
    "start_time": "2023-05-12T17:25:16.160Z"
   },
   {
    "duration": 8,
    "start_time": "2023-05-12T17:25:17.421Z"
   },
   {
    "duration": 37,
    "start_time": "2023-05-12T17:25:17.431Z"
   },
   {
    "duration": 4,
    "start_time": "2023-05-12T17:25:17.471Z"
   },
   {
    "duration": 12,
    "start_time": "2023-05-12T17:25:17.478Z"
   },
   {
    "duration": 17,
    "start_time": "2023-05-12T17:25:17.492Z"
   },
   {
    "duration": 715,
    "start_time": "2023-05-12T17:25:17.511Z"
   },
   {
    "duration": 18,
    "start_time": "2023-05-12T17:25:18.228Z"
   },
   {
    "duration": 5,
    "start_time": "2023-05-12T17:25:18.247Z"
   },
   {
    "duration": 10,
    "start_time": "2023-05-12T17:25:18.254Z"
   },
   {
    "duration": 1220,
    "start_time": "2023-05-12T17:25:18.265Z"
   },
   {
    "duration": 150,
    "start_time": "2023-05-12T17:25:19.487Z"
   },
   {
    "duration": 0,
    "start_time": "2023-05-12T17:25:19.639Z"
   },
   {
    "duration": 0,
    "start_time": "2023-05-12T17:25:19.640Z"
   },
   {
    "duration": 0,
    "start_time": "2023-05-12T17:25:19.641Z"
   },
   {
    "duration": 1161,
    "start_time": "2023-05-12T17:50:13.345Z"
   },
   {
    "duration": 1347,
    "start_time": "2023-05-12T17:50:43.738Z"
   },
   {
    "duration": 9,
    "start_time": "2023-05-12T17:50:45.090Z"
   },
   {
    "duration": 27,
    "start_time": "2023-05-12T17:50:45.100Z"
   },
   {
    "duration": 5,
    "start_time": "2023-05-12T17:50:45.129Z"
   },
   {
    "duration": 37,
    "start_time": "2023-05-12T17:50:45.136Z"
   },
   {
    "duration": 20,
    "start_time": "2023-05-12T17:50:45.174Z"
   },
   {
    "duration": 571,
    "start_time": "2023-05-12T17:50:45.196Z"
   },
   {
    "duration": 14,
    "start_time": "2023-05-12T17:50:45.769Z"
   },
   {
    "duration": 11,
    "start_time": "2023-05-12T17:50:45.785Z"
   },
   {
    "duration": 16,
    "start_time": "2023-05-12T17:50:45.798Z"
   },
   {
    "duration": 1492,
    "start_time": "2023-05-12T17:50:45.816Z"
   },
   {
    "duration": 0,
    "start_time": "2023-05-12T17:50:47.310Z"
   },
   {
    "duration": 0,
    "start_time": "2023-05-12T17:50:47.312Z"
   },
   {
    "duration": 0,
    "start_time": "2023-05-12T17:50:47.314Z"
   },
   {
    "duration": 0,
    "start_time": "2023-05-12T17:50:47.315Z"
   },
   {
    "duration": 1194,
    "start_time": "2023-05-12T17:52:20.196Z"
   },
   {
    "duration": 41,
    "start_time": "2023-05-12T17:52:32.578Z"
   },
   {
    "duration": 32,
    "start_time": "2023-05-12T17:54:54.605Z"
   },
   {
    "duration": 47,
    "start_time": "2023-05-12T17:57:56.821Z"
   },
   {
    "duration": 31,
    "start_time": "2023-05-12T17:58:21.504Z"
   },
   {
    "duration": 45,
    "start_time": "2023-05-12T18:00:18.977Z"
   },
   {
    "duration": 32,
    "start_time": "2023-05-12T18:02:00.604Z"
   },
   {
    "duration": 30,
    "start_time": "2023-05-12T18:04:05.849Z"
   },
   {
    "duration": 852,
    "start_time": "2023-05-12T18:05:35.130Z"
   },
   {
    "duration": 845,
    "start_time": "2023-05-12T18:08:04.633Z"
   },
   {
    "duration": 32,
    "start_time": "2023-05-12T18:08:07.299Z"
   },
   {
    "duration": 57,
    "start_time": "2023-05-12T18:09:15.105Z"
   },
   {
    "duration": 1234,
    "start_time": "2023-05-12T18:09:30.124Z"
   },
   {
    "duration": 15,
    "start_time": "2023-05-12T18:09:31.363Z"
   },
   {
    "duration": 54,
    "start_time": "2023-05-12T18:09:31.380Z"
   },
   {
    "duration": 38,
    "start_time": "2023-05-12T18:09:31.436Z"
   },
   {
    "duration": 30,
    "start_time": "2023-05-12T18:09:31.475Z"
   },
   {
    "duration": 26,
    "start_time": "2023-05-12T18:09:31.507Z"
   },
   {
    "duration": 695,
    "start_time": "2023-05-12T18:09:31.535Z"
   },
   {
    "duration": 15,
    "start_time": "2023-05-12T18:09:32.232Z"
   },
   {
    "duration": 25,
    "start_time": "2023-05-12T18:09:32.248Z"
   },
   {
    "duration": 19,
    "start_time": "2023-05-12T18:09:32.276Z"
   },
   {
    "duration": 1408,
    "start_time": "2023-05-12T18:09:32.298Z"
   },
   {
    "duration": 972,
    "start_time": "2023-05-12T18:09:33.710Z"
   },
   {
    "duration": 168,
    "start_time": "2023-05-12T18:09:34.685Z"
   },
   {
    "duration": 0,
    "start_time": "2023-05-12T18:09:34.854Z"
   },
   {
    "duration": 0,
    "start_time": "2023-05-12T18:09:34.860Z"
   },
   {
    "duration": 1033,
    "start_time": "2023-05-12T18:12:03.860Z"
   },
   {
    "duration": 1023,
    "start_time": "2023-05-12T18:14:47.360Z"
   },
   {
    "duration": 900,
    "start_time": "2023-05-12T18:16:15.375Z"
   },
   {
    "duration": 733,
    "start_time": "2023-05-12T18:16:27.256Z"
   },
   {
    "duration": 54,
    "start_time": "2023-05-12T18:19:44.257Z"
   },
   {
    "duration": 15,
    "start_time": "2023-05-12T18:19:46.178Z"
   },
   {
    "duration": 15,
    "start_time": "2023-05-12T18:19:55.718Z"
   },
   {
    "duration": 1221,
    "start_time": "2023-05-12T18:21:17.442Z"
   },
   {
    "duration": 10,
    "start_time": "2023-05-12T18:21:18.665Z"
   },
   {
    "duration": 30,
    "start_time": "2023-05-12T18:21:18.676Z"
   },
   {
    "duration": 5,
    "start_time": "2023-05-12T18:21:18.708Z"
   },
   {
    "duration": 23,
    "start_time": "2023-05-12T18:21:18.714Z"
   },
   {
    "duration": 31,
    "start_time": "2023-05-12T18:21:18.738Z"
   },
   {
    "duration": 603,
    "start_time": "2023-05-12T18:21:18.771Z"
   },
   {
    "duration": 11,
    "start_time": "2023-05-12T18:21:19.375Z"
   },
   {
    "duration": 8,
    "start_time": "2023-05-12T18:21:19.388Z"
   },
   {
    "duration": 14,
    "start_time": "2023-05-12T18:21:19.398Z"
   },
   {
    "duration": 1468,
    "start_time": "2023-05-12T18:21:19.414Z"
   },
   {
    "duration": 1095,
    "start_time": "2023-05-12T18:21:20.884Z"
   },
   {
    "duration": 893,
    "start_time": "2023-05-12T18:21:21.981Z"
   },
   {
    "duration": 157,
    "start_time": "2023-05-12T18:21:22.876Z"
   },
   {
    "duration": 12,
    "start_time": "2023-05-12T18:26:23.779Z"
   },
   {
    "duration": 18,
    "start_time": "2023-05-12T18:27:49.296Z"
   },
   {
    "duration": 76,
    "start_time": "2023-05-12T18:39:57.253Z"
   },
   {
    "duration": 1249,
    "start_time": "2023-05-12T18:41:13.129Z"
   },
   {
    "duration": 9,
    "start_time": "2023-05-12T18:41:14.380Z"
   },
   {
    "duration": 45,
    "start_time": "2023-05-12T18:41:14.392Z"
   },
   {
    "duration": 5,
    "start_time": "2023-05-12T18:41:14.439Z"
   },
   {
    "duration": 36,
    "start_time": "2023-05-12T18:41:14.447Z"
   },
   {
    "duration": 33,
    "start_time": "2023-05-12T18:41:14.485Z"
   },
   {
    "duration": 614,
    "start_time": "2023-05-12T18:41:14.520Z"
   },
   {
    "duration": 22,
    "start_time": "2023-05-12T18:41:15.136Z"
   },
   {
    "duration": 11,
    "start_time": "2023-05-12T18:41:15.167Z"
   },
   {
    "duration": 17,
    "start_time": "2023-05-12T18:41:15.181Z"
   },
   {
    "duration": 68,
    "start_time": "2023-05-12T18:41:15.200Z"
   },
   {
    "duration": 1,
    "start_time": "2023-05-12T18:41:15.270Z"
   },
   {
    "duration": 0,
    "start_time": "2023-05-12T18:41:15.272Z"
   },
   {
    "duration": 0,
    "start_time": "2023-05-12T18:41:15.273Z"
   },
   {
    "duration": 1293,
    "start_time": "2023-05-12T18:41:34.200Z"
   },
   {
    "duration": 10,
    "start_time": "2023-05-12T18:41:35.495Z"
   },
   {
    "duration": 51,
    "start_time": "2023-05-12T18:41:35.507Z"
   },
   {
    "duration": 18,
    "start_time": "2023-05-12T18:41:35.561Z"
   },
   {
    "duration": 41,
    "start_time": "2023-05-12T18:41:35.582Z"
   },
   {
    "duration": 28,
    "start_time": "2023-05-12T18:41:35.626Z"
   },
   {
    "duration": 649,
    "start_time": "2023-05-12T18:41:35.658Z"
   },
   {
    "duration": 17,
    "start_time": "2023-05-12T18:41:36.310Z"
   },
   {
    "duration": 31,
    "start_time": "2023-05-12T18:41:36.329Z"
   },
   {
    "duration": 16,
    "start_time": "2023-05-12T18:41:36.364Z"
   },
   {
    "duration": 1318,
    "start_time": "2023-05-12T18:41:36.382Z"
   },
   {
    "duration": 884,
    "start_time": "2023-05-12T18:41:37.702Z"
   },
   {
    "duration": 995,
    "start_time": "2023-05-12T18:41:38.588Z"
   },
   {
    "duration": 64,
    "start_time": "2023-05-12T18:41:39.585Z"
   },
   {
    "duration": 226,
    "start_time": "2023-05-12T18:44:59.210Z"
   },
   {
    "duration": 9,
    "start_time": "2023-05-12T18:45:39.869Z"
   },
   {
    "duration": 1349,
    "start_time": "2023-05-12T18:45:53.670Z"
   },
   {
    "duration": 10,
    "start_time": "2023-05-12T18:45:55.022Z"
   },
   {
    "duration": 43,
    "start_time": "2023-05-12T18:45:55.034Z"
   },
   {
    "duration": 23,
    "start_time": "2023-05-12T18:45:55.079Z"
   },
   {
    "duration": 38,
    "start_time": "2023-05-12T18:45:55.104Z"
   },
   {
    "duration": 64,
    "start_time": "2023-05-12T18:45:55.144Z"
   },
   {
    "duration": 625,
    "start_time": "2023-05-12T18:45:55.209Z"
   },
   {
    "duration": 18,
    "start_time": "2023-05-12T18:45:55.836Z"
   },
   {
    "duration": 15,
    "start_time": "2023-05-12T18:45:55.857Z"
   },
   {
    "duration": 10,
    "start_time": "2023-05-12T18:45:55.874Z"
   },
   {
    "duration": 2005,
    "start_time": "2023-05-12T18:45:55.886Z"
   },
   {
    "duration": 892,
    "start_time": "2023-05-12T18:45:57.893Z"
   },
   {
    "duration": 884,
    "start_time": "2023-05-12T18:45:58.787Z"
   },
   {
    "duration": 129,
    "start_time": "2023-05-12T18:46:06.591Z"
   },
   {
    "duration": 57,
    "start_time": "2023-05-12T18:47:31.556Z"
   },
   {
    "duration": 61,
    "start_time": "2023-05-12T18:59:11.187Z"
   },
   {
    "duration": 62,
    "start_time": "2023-05-12T19:00:04.117Z"
   },
   {
    "duration": 1123,
    "start_time": "2023-05-12T19:00:45.994Z"
   },
   {
    "duration": 1396,
    "start_time": "2023-05-12T19:04:03.407Z"
   },
   {
    "duration": 36,
    "start_time": "2023-05-12T19:05:21.991Z"
   },
   {
    "duration": 101,
    "start_time": "2023-05-12T19:05:32.503Z"
   },
   {
    "duration": 1276,
    "start_time": "2023-05-12T19:05:41.119Z"
   },
   {
    "duration": 12,
    "start_time": "2023-05-12T19:05:42.399Z"
   },
   {
    "duration": 28,
    "start_time": "2023-05-12T19:05:42.414Z"
   },
   {
    "duration": 29,
    "start_time": "2023-05-12T19:05:42.445Z"
   },
   {
    "duration": 21,
    "start_time": "2023-05-12T19:05:42.479Z"
   },
   {
    "duration": 20,
    "start_time": "2023-05-12T19:05:42.503Z"
   },
   {
    "duration": 690,
    "start_time": "2023-05-12T19:05:42.525Z"
   },
   {
    "duration": 10,
    "start_time": "2023-05-12T19:05:43.217Z"
   },
   {
    "duration": 20,
    "start_time": "2023-05-12T19:05:43.229Z"
   },
   {
    "duration": 37,
    "start_time": "2023-05-12T19:05:43.254Z"
   },
   {
    "duration": 1296,
    "start_time": "2023-05-12T19:05:43.293Z"
   },
   {
    "duration": 989,
    "start_time": "2023-05-12T19:05:44.591Z"
   },
   {
    "duration": 792,
    "start_time": "2023-05-12T19:05:45.582Z"
   },
   {
    "duration": 136,
    "start_time": "2023-05-12T19:05:46.377Z"
   },
   {
    "duration": 308,
    "start_time": "2023-05-12T19:07:10.189Z"
   },
   {
    "duration": 13,
    "start_time": "2023-05-12T19:07:54.086Z"
   },
   {
    "duration": 1438,
    "start_time": "2023-05-12T19:08:06.603Z"
   },
   {
    "duration": 10,
    "start_time": "2023-05-12T19:08:08.043Z"
   },
   {
    "duration": 71,
    "start_time": "2023-05-12T19:08:08.055Z"
   },
   {
    "duration": 9,
    "start_time": "2023-05-12T19:08:08.129Z"
   },
   {
    "duration": 78,
    "start_time": "2023-05-12T19:08:08.140Z"
   },
   {
    "duration": 35,
    "start_time": "2023-05-12T19:08:08.220Z"
   },
   {
    "duration": 809,
    "start_time": "2023-05-12T19:08:08.257Z"
   },
   {
    "duration": 18,
    "start_time": "2023-05-12T19:08:09.071Z"
   },
   {
    "duration": 38,
    "start_time": "2023-05-12T19:08:09.091Z"
   },
   {
    "duration": 19,
    "start_time": "2023-05-12T19:08:09.132Z"
   },
   {
    "duration": 1638,
    "start_time": "2023-05-12T19:08:09.154Z"
   },
   {
    "duration": 1006,
    "start_time": "2023-05-12T19:08:10.795Z"
   },
   {
    "duration": 982,
    "start_time": "2023-05-12T19:08:11.803Z"
   },
   {
    "duration": 77,
    "start_time": "2023-05-12T19:08:12.787Z"
   },
   {
    "duration": 184,
    "start_time": "2023-05-12T19:11:11.171Z"
   },
   {
    "duration": 68,
    "start_time": "2023-05-12T19:13:09.974Z"
   },
   {
    "duration": 82,
    "start_time": "2023-05-12T19:13:57.490Z"
   },
   {
    "duration": 83,
    "start_time": "2023-05-12T19:16:07.391Z"
   },
   {
    "duration": 8424,
    "start_time": "2023-05-12T19:21:34.065Z"
   },
   {
    "duration": 37,
    "start_time": "2023-05-12T19:21:45.835Z"
   },
   {
    "duration": 1042,
    "start_time": "2023-05-12T19:22:39.726Z"
   },
   {
    "duration": 9,
    "start_time": "2023-05-12T19:22:40.770Z"
   },
   {
    "duration": 23,
    "start_time": "2023-05-12T19:22:40.781Z"
   },
   {
    "duration": 15,
    "start_time": "2023-05-12T19:22:40.806Z"
   },
   {
    "duration": 8,
    "start_time": "2023-05-12T19:22:40.823Z"
   },
   {
    "duration": 32,
    "start_time": "2023-05-12T19:22:40.833Z"
   },
   {
    "duration": 547,
    "start_time": "2023-05-12T19:22:40.867Z"
   },
   {
    "duration": 12,
    "start_time": "2023-05-12T19:22:41.416Z"
   },
   {
    "duration": 31,
    "start_time": "2023-05-12T19:22:41.430Z"
   },
   {
    "duration": 5,
    "start_time": "2023-05-12T19:22:41.464Z"
   },
   {
    "duration": 1331,
    "start_time": "2023-05-12T19:22:41.470Z"
   },
   {
    "duration": 885,
    "start_time": "2023-05-12T19:22:42.803Z"
   },
   {
    "duration": 891,
    "start_time": "2023-05-12T19:22:43.690Z"
   },
   {
    "duration": 79,
    "start_time": "2023-05-12T19:22:44.584Z"
   },
   {
    "duration": 2217,
    "start_time": "2023-05-12T19:22:44.665Z"
   },
   {
    "duration": 1997,
    "start_time": "2023-05-12T19:22:46.886Z"
   },
   {
    "duration": 136,
    "start_time": "2023-05-12T19:25:16.304Z"
   },
   {
    "duration": 11,
    "start_time": "2023-05-12T19:27:14.527Z"
   },
   {
    "duration": 16,
    "start_time": "2023-05-12T19:28:07.159Z"
   },
   {
    "duration": 72,
    "start_time": "2023-05-12T19:30:41.859Z"
   },
   {
    "duration": 1113,
    "start_time": "2023-05-12T19:31:20.061Z"
   },
   {
    "duration": 9,
    "start_time": "2023-05-12T19:31:21.176Z"
   },
   {
    "duration": 37,
    "start_time": "2023-05-12T19:31:21.187Z"
   },
   {
    "duration": 5,
    "start_time": "2023-05-12T19:31:21.226Z"
   },
   {
    "duration": 47,
    "start_time": "2023-05-12T19:31:21.233Z"
   },
   {
    "duration": 27,
    "start_time": "2023-05-12T19:31:21.282Z"
   },
   {
    "duration": 611,
    "start_time": "2023-05-12T19:31:21.311Z"
   },
   {
    "duration": 10,
    "start_time": "2023-05-12T19:31:21.924Z"
   },
   {
    "duration": 19,
    "start_time": "2023-05-12T19:31:21.948Z"
   },
   {
    "duration": 10,
    "start_time": "2023-05-12T19:31:21.970Z"
   },
   {
    "duration": 1501,
    "start_time": "2023-05-12T19:31:21.982Z"
   },
   {
    "duration": 997,
    "start_time": "2023-05-12T19:31:23.485Z"
   },
   {
    "duration": 914,
    "start_time": "2023-05-12T19:31:24.485Z"
   },
   {
    "duration": 101,
    "start_time": "2023-05-12T19:31:25.401Z"
   },
   {
    "duration": 78,
    "start_time": "2023-05-12T19:31:25.504Z"
   },
   {
    "duration": 64,
    "start_time": "2023-05-12T19:31:46.143Z"
   },
   {
    "duration": 1011,
    "start_time": "2023-05-12T19:35:03.658Z"
   },
   {
    "duration": 10,
    "start_time": "2023-05-12T19:35:04.672Z"
   },
   {
    "duration": 31,
    "start_time": "2023-05-12T19:35:04.683Z"
   },
   {
    "duration": 28,
    "start_time": "2023-05-12T19:35:04.716Z"
   },
   {
    "duration": 30,
    "start_time": "2023-05-12T19:35:04.749Z"
   },
   {
    "duration": 36,
    "start_time": "2023-05-12T19:35:04.781Z"
   },
   {
    "duration": 600,
    "start_time": "2023-05-12T19:35:04.819Z"
   },
   {
    "duration": 10,
    "start_time": "2023-05-12T19:35:05.421Z"
   },
   {
    "duration": 29,
    "start_time": "2023-05-12T19:35:05.433Z"
   },
   {
    "duration": 18,
    "start_time": "2023-05-12T19:35:05.464Z"
   },
   {
    "duration": 1280,
    "start_time": "2023-05-12T19:35:05.483Z"
   },
   {
    "duration": 833,
    "start_time": "2023-05-12T19:35:06.766Z"
   },
   {
    "duration": 873,
    "start_time": "2023-05-12T19:35:07.600Z"
   },
   {
    "duration": 12,
    "start_time": "2023-05-12T19:39:15.693Z"
   },
   {
    "duration": 790,
    "start_time": "2023-05-12T19:39:56.786Z"
   },
   {
    "duration": 1017,
    "start_time": "2023-05-12T19:41:18.899Z"
   },
   {
    "duration": 9,
    "start_time": "2023-05-12T19:41:19.919Z"
   },
   {
    "duration": 62,
    "start_time": "2023-05-12T19:41:19.930Z"
   },
   {
    "duration": 14,
    "start_time": "2023-05-12T19:41:19.994Z"
   },
   {
    "duration": 33,
    "start_time": "2023-05-12T19:41:20.010Z"
   },
   {
    "duration": 42,
    "start_time": "2023-05-12T19:41:20.045Z"
   },
   {
    "duration": 618,
    "start_time": "2023-05-12T19:41:20.089Z"
   },
   {
    "duration": 11,
    "start_time": "2023-05-12T19:41:20.709Z"
   },
   {
    "duration": 21,
    "start_time": "2023-05-12T19:41:20.721Z"
   },
   {
    "duration": 10,
    "start_time": "2023-05-12T19:41:20.745Z"
   },
   {
    "duration": 1302,
    "start_time": "2023-05-12T19:41:20.757Z"
   },
   {
    "duration": 936,
    "start_time": "2023-05-12T19:41:22.061Z"
   },
   {
    "duration": 1002,
    "start_time": "2023-05-12T19:41:23.001Z"
   },
   {
    "duration": 791,
    "start_time": "2023-05-12T19:41:24.005Z"
   },
   {
    "duration": 1189,
    "start_time": "2023-05-12T19:44:22.010Z"
   },
   {
    "duration": 9,
    "start_time": "2023-05-12T19:44:23.201Z"
   },
   {
    "duration": 61,
    "start_time": "2023-05-12T19:44:23.212Z"
   },
   {
    "duration": 4,
    "start_time": "2023-05-12T19:44:23.275Z"
   },
   {
    "duration": 22,
    "start_time": "2023-05-12T19:44:23.281Z"
   },
   {
    "duration": 24,
    "start_time": "2023-05-12T19:44:23.304Z"
   },
   {
    "duration": 598,
    "start_time": "2023-05-12T19:44:23.330Z"
   },
   {
    "duration": 18,
    "start_time": "2023-05-12T19:44:23.929Z"
   },
   {
    "duration": 4,
    "start_time": "2023-05-12T19:44:23.949Z"
   },
   {
    "duration": 9,
    "start_time": "2023-05-12T19:44:23.956Z"
   },
   {
    "duration": 1320,
    "start_time": "2023-05-12T19:44:23.967Z"
   },
   {
    "duration": 806,
    "start_time": "2023-05-12T19:44:25.289Z"
   },
   {
    "duration": 795,
    "start_time": "2023-05-12T19:44:26.098Z"
   },
   {
    "duration": 812,
    "start_time": "2023-05-12T19:44:26.895Z"
   },
   {
    "duration": 1051,
    "start_time": "2023-05-12T19:51:50.652Z"
   },
   {
    "duration": 9,
    "start_time": "2023-05-12T19:51:51.705Z"
   },
   {
    "duration": 45,
    "start_time": "2023-05-12T19:51:51.716Z"
   },
   {
    "duration": 7,
    "start_time": "2023-05-12T19:51:51.763Z"
   },
   {
    "duration": 18,
    "start_time": "2023-05-12T19:51:51.773Z"
   },
   {
    "duration": 39,
    "start_time": "2023-05-12T19:51:51.793Z"
   },
   {
    "duration": 622,
    "start_time": "2023-05-12T19:51:51.833Z"
   },
   {
    "duration": 14,
    "start_time": "2023-05-12T19:51:52.457Z"
   },
   {
    "duration": 27,
    "start_time": "2023-05-12T19:51:52.473Z"
   },
   {
    "duration": 31,
    "start_time": "2023-05-12T19:51:52.503Z"
   },
   {
    "duration": 1269,
    "start_time": "2023-05-12T19:51:52.537Z"
   },
   {
    "duration": 863,
    "start_time": "2023-05-12T19:51:53.809Z"
   },
   {
    "duration": 825,
    "start_time": "2023-05-12T19:51:54.674Z"
   },
   {
    "duration": 811,
    "start_time": "2023-05-12T19:51:55.503Z"
   },
   {
    "duration": 9,
    "start_time": "2023-05-12T19:51:56.317Z"
   },
   {
    "duration": 162,
    "start_time": "2023-05-12T19:51:56.328Z"
   },
   {
    "duration": 27,
    "start_time": "2023-05-12T19:53:05.813Z"
   },
   {
    "duration": 1189,
    "start_time": "2023-05-12T19:54:29.996Z"
   },
   {
    "duration": 9,
    "start_time": "2023-05-12T19:54:31.187Z"
   },
   {
    "duration": 112,
    "start_time": "2023-05-12T19:54:31.198Z"
   },
   {
    "duration": 48,
    "start_time": "2023-05-12T19:54:31.312Z"
   },
   {
    "duration": 38,
    "start_time": "2023-05-12T19:54:31.363Z"
   },
   {
    "duration": 54,
    "start_time": "2023-05-12T19:54:31.403Z"
   },
   {
    "duration": 777,
    "start_time": "2023-05-12T19:54:31.459Z"
   },
   {
    "duration": 19,
    "start_time": "2023-05-12T19:54:32.238Z"
   },
   {
    "duration": 16,
    "start_time": "2023-05-12T19:54:32.260Z"
   },
   {
    "duration": 38,
    "start_time": "2023-05-12T19:54:32.278Z"
   },
   {
    "duration": 1342,
    "start_time": "2023-05-12T19:54:32.318Z"
   },
   {
    "duration": 1342,
    "start_time": "2023-05-12T19:54:33.662Z"
   },
   {
    "duration": 882,
    "start_time": "2023-05-12T19:54:35.007Z"
   },
   {
    "duration": 830,
    "start_time": "2023-05-12T19:54:35.893Z"
   },
   {
    "duration": 8,
    "start_time": "2023-05-12T19:54:36.725Z"
   },
   {
    "duration": 1196,
    "start_time": "2023-05-12T19:54:36.735Z"
   },
   {
    "duration": 159,
    "start_time": "2023-05-12T19:56:11.452Z"
   },
   {
    "duration": 569,
    "start_time": "2023-05-12T19:57:38.894Z"
   },
   {
    "duration": 15,
    "start_time": "2023-05-12T20:00:46.391Z"
   },
   {
    "duration": 5,
    "start_time": "2023-05-12T20:03:19.675Z"
   },
   {
    "duration": 565,
    "start_time": "2023-05-12T20:03:20.548Z"
   },
   {
    "duration": 510,
    "start_time": "2023-05-12T20:04:20.889Z"
   },
   {
    "duration": 12,
    "start_time": "2023-05-12T20:12:17.640Z"
   },
   {
    "duration": 764,
    "start_time": "2023-05-12T20:15:42.970Z"
   },
   {
    "duration": 1035,
    "start_time": "2023-05-12T20:29:51.790Z"
   },
   {
    "duration": 9,
    "start_time": "2023-05-12T20:29:52.827Z"
   },
   {
    "duration": 34,
    "start_time": "2023-05-12T20:29:52.837Z"
   },
   {
    "duration": 12,
    "start_time": "2023-05-12T20:29:52.872Z"
   },
   {
    "duration": 30,
    "start_time": "2023-05-12T20:29:52.886Z"
   },
   {
    "duration": 24,
    "start_time": "2023-05-12T20:29:52.918Z"
   },
   {
    "duration": 563,
    "start_time": "2023-05-12T20:29:52.944Z"
   },
   {
    "duration": 11,
    "start_time": "2023-05-12T20:29:53.509Z"
   },
   {
    "duration": 8,
    "start_time": "2023-05-12T20:29:53.522Z"
   },
   {
    "duration": 5,
    "start_time": "2023-05-12T20:29:53.545Z"
   },
   {
    "duration": 1243,
    "start_time": "2023-05-12T20:29:53.552Z"
   },
   {
    "duration": 789,
    "start_time": "2023-05-12T20:29:54.797Z"
   },
   {
    "duration": 796,
    "start_time": "2023-05-12T20:29:55.588Z"
   },
   {
    "duration": 780,
    "start_time": "2023-05-12T20:29:56.386Z"
   },
   {
    "duration": 6,
    "start_time": "2023-05-12T20:29:57.168Z"
   },
   {
    "duration": 547,
    "start_time": "2023-05-12T20:29:57.175Z"
   },
   {
    "duration": 3161,
    "start_time": "2023-05-12T20:54:16.213Z"
   },
   {
    "duration": 8,
    "start_time": "2023-05-12T20:54:19.375Z"
   },
   {
    "duration": 35,
    "start_time": "2023-05-12T20:54:19.389Z"
   },
   {
    "duration": 3,
    "start_time": "2023-05-12T20:54:19.426Z"
   },
   {
    "duration": 10,
    "start_time": "2023-05-12T20:54:19.431Z"
   },
   {
    "duration": 11,
    "start_time": "2023-05-12T20:54:19.442Z"
   },
   {
    "duration": 667,
    "start_time": "2023-05-12T20:54:19.454Z"
   },
   {
    "duration": 10,
    "start_time": "2023-05-12T20:54:20.123Z"
   },
   {
    "duration": 10,
    "start_time": "2023-05-12T20:54:20.134Z"
   },
   {
    "duration": 25,
    "start_time": "2023-05-12T20:54:20.146Z"
   },
   {
    "duration": 1030,
    "start_time": "2023-05-12T20:54:20.172Z"
   },
   {
    "duration": 16,
    "start_time": "2023-05-12T20:54:21.334Z"
   },
   {
    "duration": 28,
    "start_time": "2023-05-12T20:58:55.936Z"
   },
   {
    "duration": 20,
    "start_time": "2023-05-12T20:58:57.984Z"
   },
   {
    "duration": 5,
    "start_time": "2023-05-12T20:59:01.405Z"
   },
   {
    "duration": 996,
    "start_time": "2023-05-12T22:28:24.861Z"
   },
   {
    "duration": 8,
    "start_time": "2023-05-12T22:28:25.860Z"
   },
   {
    "duration": 21,
    "start_time": "2023-05-12T22:28:25.870Z"
   },
   {
    "duration": 5,
    "start_time": "2023-05-12T22:28:25.893Z"
   },
   {
    "duration": 10,
    "start_time": "2023-05-12T22:28:25.900Z"
   },
   {
    "duration": 34,
    "start_time": "2023-05-12T22:28:25.912Z"
   },
   {
    "duration": 560,
    "start_time": "2023-05-12T22:28:25.948Z"
   },
   {
    "duration": 11,
    "start_time": "2023-05-12T22:28:26.509Z"
   },
   {
    "duration": 5,
    "start_time": "2023-05-12T22:28:26.523Z"
   },
   {
    "duration": 9,
    "start_time": "2023-05-12T22:28:26.545Z"
   },
   {
    "duration": 1402,
    "start_time": "2023-05-12T22:28:26.556Z"
   },
   {
    "duration": 131,
    "start_time": "2023-05-12T22:28:27.960Z"
   },
   {
    "duration": 0,
    "start_time": "2023-05-12T22:28:28.093Z"
   },
   {
    "duration": 0,
    "start_time": "2023-05-12T22:28:28.094Z"
   },
   {
    "duration": 0,
    "start_time": "2023-05-12T22:28:28.096Z"
   },
   {
    "duration": 0,
    "start_time": "2023-05-12T22:28:28.097Z"
   },
   {
    "duration": 13,
    "start_time": "2023-05-12T23:11:08.718Z"
   },
   {
    "duration": 700,
    "start_time": "2023-05-12T23:15:04.882Z"
   },
   {
    "duration": 712,
    "start_time": "2023-05-12T23:15:40.082Z"
   },
   {
    "duration": 23,
    "start_time": "2023-05-12T23:17:56.023Z"
   },
   {
    "duration": 989,
    "start_time": "2023-05-12T23:20:19.573Z"
   },
   {
    "duration": 8,
    "start_time": "2023-05-12T23:20:20.564Z"
   },
   {
    "duration": 50,
    "start_time": "2023-05-12T23:20:20.574Z"
   },
   {
    "duration": 5,
    "start_time": "2023-05-12T23:20:20.626Z"
   },
   {
    "duration": 11,
    "start_time": "2023-05-12T23:20:20.633Z"
   },
   {
    "duration": 17,
    "start_time": "2023-05-12T23:20:20.646Z"
   },
   {
    "duration": 556,
    "start_time": "2023-05-12T23:20:20.664Z"
   },
   {
    "duration": 11,
    "start_time": "2023-05-12T23:20:21.222Z"
   },
   {
    "duration": 11,
    "start_time": "2023-05-12T23:20:21.245Z"
   },
   {
    "duration": 13,
    "start_time": "2023-05-12T23:20:21.258Z"
   },
   {
    "duration": 1178,
    "start_time": "2023-05-12T23:20:21.273Z"
   },
   {
    "duration": 734,
    "start_time": "2023-05-12T23:20:22.453Z"
   },
   {
    "duration": 791,
    "start_time": "2023-05-12T23:20:23.189Z"
   },
   {
    "duration": 146,
    "start_time": "2023-05-12T23:20:23.982Z"
   },
   {
    "duration": 0,
    "start_time": "2023-05-12T23:20:24.130Z"
   },
   {
    "duration": 0,
    "start_time": "2023-05-12T23:20:24.131Z"
   },
   {
    "duration": 0,
    "start_time": "2023-05-12T23:20:24.132Z"
   },
   {
    "duration": 914,
    "start_time": "2023-05-12T23:21:45.103Z"
   },
   {
    "duration": 8,
    "start_time": "2023-05-12T23:21:46.019Z"
   },
   {
    "duration": 20,
    "start_time": "2023-05-12T23:21:46.028Z"
   },
   {
    "duration": 9,
    "start_time": "2023-05-12T23:21:46.049Z"
   },
   {
    "duration": 10,
    "start_time": "2023-05-12T23:21:46.060Z"
   },
   {
    "duration": 21,
    "start_time": "2023-05-12T23:21:46.072Z"
   },
   {
    "duration": 540,
    "start_time": "2023-05-12T23:21:46.095Z"
   },
   {
    "duration": 17,
    "start_time": "2023-05-12T23:21:46.637Z"
   },
   {
    "duration": 6,
    "start_time": "2023-05-12T23:21:46.657Z"
   },
   {
    "duration": 26,
    "start_time": "2023-05-12T23:21:46.665Z"
   },
   {
    "duration": 988,
    "start_time": "2023-05-12T23:21:46.693Z"
   },
   {
    "duration": 798,
    "start_time": "2023-05-12T23:21:47.683Z"
   },
   {
    "duration": 766,
    "start_time": "2023-05-12T23:21:48.483Z"
   },
   {
    "duration": 135,
    "start_time": "2023-05-12T23:21:49.251Z"
   },
   {
    "duration": 0,
    "start_time": "2023-05-12T23:21:49.388Z"
   },
   {
    "duration": 0,
    "start_time": "2023-05-12T23:21:49.389Z"
   },
   {
    "duration": 0,
    "start_time": "2023-05-12T23:21:49.390Z"
   },
   {
    "duration": 691,
    "start_time": "2023-05-12T23:23:12.652Z"
   },
   {
    "duration": 379,
    "start_time": "2023-05-12T23:30:41.358Z"
   },
   {
    "duration": 1112,
    "start_time": "2023-05-12T23:34:43.236Z"
   },
   {
    "duration": 8,
    "start_time": "2023-05-12T23:34:44.351Z"
   },
   {
    "duration": 23,
    "start_time": "2023-05-12T23:34:44.361Z"
   },
   {
    "duration": 14,
    "start_time": "2023-05-12T23:34:44.385Z"
   },
   {
    "duration": 13,
    "start_time": "2023-05-12T23:34:44.401Z"
   },
   {
    "duration": 16,
    "start_time": "2023-05-12T23:34:44.415Z"
   },
   {
    "duration": 561,
    "start_time": "2023-05-12T23:34:44.433Z"
   },
   {
    "duration": 11,
    "start_time": "2023-05-12T23:34:44.995Z"
   },
   {
    "duration": 24,
    "start_time": "2023-05-12T23:34:45.008Z"
   },
   {
    "duration": 12,
    "start_time": "2023-05-12T23:34:45.034Z"
   },
   {
    "duration": 1137,
    "start_time": "2023-05-12T23:34:45.048Z"
   },
   {
    "duration": 1126,
    "start_time": "2023-05-12T23:34:46.186Z"
   },
   {
    "duration": 1038,
    "start_time": "2023-05-12T23:34:47.314Z"
   },
   {
    "duration": 739,
    "start_time": "2023-05-12T23:34:48.354Z"
   },
   {
    "duration": 5,
    "start_time": "2023-05-12T23:34:49.094Z"
   },
   {
    "duration": 546,
    "start_time": "2023-05-12T23:34:49.101Z"
   },
   {
    "duration": 112,
    "start_time": "2023-05-12T23:41:40.825Z"
   }
  ],
  "kernelspec": {
   "display_name": "Python 3 (ipykernel)",
   "language": "python",
   "name": "python3"
  },
  "language_info": {
   "codemirror_mode": {
    "name": "ipython",
    "version": 3
   },
   "file_extension": ".py",
   "mimetype": "text/x-python",
   "name": "python",
   "nbconvert_exporter": "python",
   "pygments_lexer": "ipython3",
   "version": "3.9.5"
  },
  "toc": {
   "base_numbering": 1,
   "nav_menu": {},
   "number_sections": true,
   "sideBar": true,
   "skip_h1_title": true,
   "title_cell": "Содержание",
   "title_sidebar": "Contents",
   "toc_cell": true,
   "toc_position": {},
   "toc_section_display": true,
   "toc_window_display": true
  }
 },
 "nbformat": 4,
 "nbformat_minor": 2
}
